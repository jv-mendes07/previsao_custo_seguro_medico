{
  "nbformat": 4,
  "nbformat_minor": 0,
  "metadata": {
    "colab": {
      "provenance": [],
      "authorship_tag": "ABX9TyNfqh6kMxWlMbhCCqfNlI4M",
      "include_colab_link": true
    },
    "kernelspec": {
      "name": "python3",
      "display_name": "Python 3"
    },
    "language_info": {
      "name": "python"
    }
  },
  "cells": [
    {
      "cell_type": "markdown",
      "metadata": {
        "id": "view-in-github",
        "colab_type": "text"
      },
      "source": [
        "<a href=\"https://colab.research.google.com/github/jv-mendes07/previsao_custo_seguro_medico/blob/main/previs%C3%A3o_de_custo_do_seguro_m%C3%A9dico_(projeto_de_regress%C3%A3o).ipynb\" target=\"_parent\"><img src=\"https://colab.research.google.com/assets/colab-badge.svg\" alt=\"Open In Colab\"/></a>"
      ]
    },
    {
      "cell_type": "markdown",
      "source": [
        "# Previsão de Custo do Seguro Médico (Projeto de Regressão)"
      ],
      "metadata": {
        "id": "eXCOLGsk4kT3"
      }
    },
    {
      "cell_type": "markdown",
      "source": [
        "### Projeto de Machine Learning"
      ],
      "metadata": {
        "id": "8IejwPPP4ou9"
      }
    },
    {
      "cell_type": "markdown",
      "source": [
        "#### O objetivo de tal projeto é treinar um modelo preditivo de regressão que tenha uma acurácia razoável para realizar previsões relativas ao custo de seguro médico dos segurados, dado determinadas características dos segurados."
      ],
      "metadata": {
        "id": "aAyzXKd9mdx2"
      }
    },
    {
      "cell_type": "code",
      "source": [
        "from google.colab import drive\n",
        "drive.mount('/content/drive')"
      ],
      "metadata": {
        "colab": {
          "base_uri": "https://localhost:8080/"
        },
        "id": "eBrcIIgR4tLX",
        "outputId": "32ef6268-eaea-4442-ca2e-404b4480444e"
      },
      "execution_count": 1,
      "outputs": [
        {
          "output_type": "stream",
          "name": "stdout",
          "text": [
            "Drive already mounted at /content/drive; to attempt to forcibly remount, call drive.mount(\"/content/drive\", force_remount=True).\n"
          ]
        }
      ]
    },
    {
      "cell_type": "markdown",
      "source": [
        "#### Importação de Bibliotecas"
      ],
      "metadata": {
        "id": "5ZflM9cz4u97"
      }
    },
    {
      "cell_type": "code",
      "source": [
        "# Importação de bibliotecas que serão úteis no projeto:\n",
        "\n",
        "import numpy as np\n",
        "import pandas as pd\n",
        "import matplotlib.pyplot as plt\n",
        "import seaborn as sns\n",
        "from sklearn.model_selection import train_test_split\n",
        "from sklearn.ensemble import RandomForestRegressor\n",
        "from sklearn.linear_model import LinearRegression\n",
        "from sklearn.tree import DecisionTreeRegressor\n",
        "from xgboost import XGBRegressor\n",
        "from sklearn import metrics\n",
        "from sklearn.model_selection import cross_val_score"
      ],
      "metadata": {
        "id": "Gr4_OVua42Zq"
      },
      "execution_count": 2,
      "outputs": []
    },
    {
      "cell_type": "markdown",
      "source": [
        "#### (1) Coleta de Dados"
      ],
      "metadata": {
        "id": "Nsv3Upw25qC2"
      }
    },
    {
      "cell_type": "code",
      "source": [
        "# Importação do dataset:\n",
        "\n",
        "df_insurance_cost = pd.read_csv('/content/drive/MyDrive/insurance.csv')"
      ],
      "metadata": {
        "id": "GoDvofTn5se2"
      },
      "execution_count": 3,
      "outputs": []
    },
    {
      "cell_type": "code",
      "source": [
        "# Leitura das 5 primeiras linhas do dataset:\n",
        "\n",
        "df_insurance_cost.head()"
      ],
      "metadata": {
        "colab": {
          "base_uri": "https://localhost:8080/",
          "height": 206
        },
        "id": "QRYribXf5-qG",
        "outputId": "a751281f-5769-46fb-cfe7-ce0ea30d8ecd"
      },
      "execution_count": 4,
      "outputs": [
        {
          "output_type": "execute_result",
          "data": {
            "text/plain": [
              "   age     sex     bmi  children smoker     region      charges\n",
              "0   19  female  27.900         0    yes  southwest  16884.92400\n",
              "1   18    male  33.770         1     no  southeast   1725.55230\n",
              "2   28    male  33.000         3     no  southeast   4449.46200\n",
              "3   33    male  22.705         0     no  northwest  21984.47061\n",
              "4   32    male  28.880         0     no  northwest   3866.85520"
            ],
            "text/html": [
              "\n",
              "  <div id=\"df-76d5c288-3559-407f-be19-3454f4fa48a6\">\n",
              "    <div class=\"colab-df-container\">\n",
              "      <div>\n",
              "<style scoped>\n",
              "    .dataframe tbody tr th:only-of-type {\n",
              "        vertical-align: middle;\n",
              "    }\n",
              "\n",
              "    .dataframe tbody tr th {\n",
              "        vertical-align: top;\n",
              "    }\n",
              "\n",
              "    .dataframe thead th {\n",
              "        text-align: right;\n",
              "    }\n",
              "</style>\n",
              "<table border=\"1\" class=\"dataframe\">\n",
              "  <thead>\n",
              "    <tr style=\"text-align: right;\">\n",
              "      <th></th>\n",
              "      <th>age</th>\n",
              "      <th>sex</th>\n",
              "      <th>bmi</th>\n",
              "      <th>children</th>\n",
              "      <th>smoker</th>\n",
              "      <th>region</th>\n",
              "      <th>charges</th>\n",
              "    </tr>\n",
              "  </thead>\n",
              "  <tbody>\n",
              "    <tr>\n",
              "      <th>0</th>\n",
              "      <td>19</td>\n",
              "      <td>female</td>\n",
              "      <td>27.900</td>\n",
              "      <td>0</td>\n",
              "      <td>yes</td>\n",
              "      <td>southwest</td>\n",
              "      <td>16884.92400</td>\n",
              "    </tr>\n",
              "    <tr>\n",
              "      <th>1</th>\n",
              "      <td>18</td>\n",
              "      <td>male</td>\n",
              "      <td>33.770</td>\n",
              "      <td>1</td>\n",
              "      <td>no</td>\n",
              "      <td>southeast</td>\n",
              "      <td>1725.55230</td>\n",
              "    </tr>\n",
              "    <tr>\n",
              "      <th>2</th>\n",
              "      <td>28</td>\n",
              "      <td>male</td>\n",
              "      <td>33.000</td>\n",
              "      <td>3</td>\n",
              "      <td>no</td>\n",
              "      <td>southeast</td>\n",
              "      <td>4449.46200</td>\n",
              "    </tr>\n",
              "    <tr>\n",
              "      <th>3</th>\n",
              "      <td>33</td>\n",
              "      <td>male</td>\n",
              "      <td>22.705</td>\n",
              "      <td>0</td>\n",
              "      <td>no</td>\n",
              "      <td>northwest</td>\n",
              "      <td>21984.47061</td>\n",
              "    </tr>\n",
              "    <tr>\n",
              "      <th>4</th>\n",
              "      <td>32</td>\n",
              "      <td>male</td>\n",
              "      <td>28.880</td>\n",
              "      <td>0</td>\n",
              "      <td>no</td>\n",
              "      <td>northwest</td>\n",
              "      <td>3866.85520</td>\n",
              "    </tr>\n",
              "  </tbody>\n",
              "</table>\n",
              "</div>\n",
              "      <button class=\"colab-df-convert\" onclick=\"convertToInteractive('df-76d5c288-3559-407f-be19-3454f4fa48a6')\"\n",
              "              title=\"Convert this dataframe to an interactive table.\"\n",
              "              style=\"display:none;\">\n",
              "        \n",
              "  <svg xmlns=\"http://www.w3.org/2000/svg\" height=\"24px\"viewBox=\"0 0 24 24\"\n",
              "       width=\"24px\">\n",
              "    <path d=\"M0 0h24v24H0V0z\" fill=\"none\"/>\n",
              "    <path d=\"M18.56 5.44l.94 2.06.94-2.06 2.06-.94-2.06-.94-.94-2.06-.94 2.06-2.06.94zm-11 1L8.5 8.5l.94-2.06 2.06-.94-2.06-.94L8.5 2.5l-.94 2.06-2.06.94zm10 10l.94 2.06.94-2.06 2.06-.94-2.06-.94-.94-2.06-.94 2.06-2.06.94z\"/><path d=\"M17.41 7.96l-1.37-1.37c-.4-.4-.92-.59-1.43-.59-.52 0-1.04.2-1.43.59L10.3 9.45l-7.72 7.72c-.78.78-.78 2.05 0 2.83L4 21.41c.39.39.9.59 1.41.59.51 0 1.02-.2 1.41-.59l7.78-7.78 2.81-2.81c.8-.78.8-2.07 0-2.86zM5.41 20L4 18.59l7.72-7.72 1.47 1.35L5.41 20z\"/>\n",
              "  </svg>\n",
              "      </button>\n",
              "      \n",
              "  <style>\n",
              "    .colab-df-container {\n",
              "      display:flex;\n",
              "      flex-wrap:wrap;\n",
              "      gap: 12px;\n",
              "    }\n",
              "\n",
              "    .colab-df-convert {\n",
              "      background-color: #E8F0FE;\n",
              "      border: none;\n",
              "      border-radius: 50%;\n",
              "      cursor: pointer;\n",
              "      display: none;\n",
              "      fill: #1967D2;\n",
              "      height: 32px;\n",
              "      padding: 0 0 0 0;\n",
              "      width: 32px;\n",
              "    }\n",
              "\n",
              "    .colab-df-convert:hover {\n",
              "      background-color: #E2EBFA;\n",
              "      box-shadow: 0px 1px 2px rgba(60, 64, 67, 0.3), 0px 1px 3px 1px rgba(60, 64, 67, 0.15);\n",
              "      fill: #174EA6;\n",
              "    }\n",
              "\n",
              "    [theme=dark] .colab-df-convert {\n",
              "      background-color: #3B4455;\n",
              "      fill: #D2E3FC;\n",
              "    }\n",
              "\n",
              "    [theme=dark] .colab-df-convert:hover {\n",
              "      background-color: #434B5C;\n",
              "      box-shadow: 0px 1px 3px 1px rgba(0, 0, 0, 0.15);\n",
              "      filter: drop-shadow(0px 1px 2px rgba(0, 0, 0, 0.3));\n",
              "      fill: #FFFFFF;\n",
              "    }\n",
              "  </style>\n",
              "\n",
              "      <script>\n",
              "        const buttonEl =\n",
              "          document.querySelector('#df-76d5c288-3559-407f-be19-3454f4fa48a6 button.colab-df-convert');\n",
              "        buttonEl.style.display =\n",
              "          google.colab.kernel.accessAllowed ? 'block' : 'none';\n",
              "\n",
              "        async function convertToInteractive(key) {\n",
              "          const element = document.querySelector('#df-76d5c288-3559-407f-be19-3454f4fa48a6');\n",
              "          const dataTable =\n",
              "            await google.colab.kernel.invokeFunction('convertToInteractive',\n",
              "                                                     [key], {});\n",
              "          if (!dataTable) return;\n",
              "\n",
              "          const docLinkHtml = 'Like what you see? Visit the ' +\n",
              "            '<a target=\"_blank\" href=https://colab.research.google.com/notebooks/data_table.ipynb>data table notebook</a>'\n",
              "            + ' to learn more about interactive tables.';\n",
              "          element.innerHTML = '';\n",
              "          dataTable['output_type'] = 'display_data';\n",
              "          await google.colab.output.renderOutput(dataTable, element);\n",
              "          const docLink = document.createElement('div');\n",
              "          docLink.innerHTML = docLinkHtml;\n",
              "          element.appendChild(docLink);\n",
              "        }\n",
              "      </script>\n",
              "    </div>\n",
              "  </div>\n",
              "  "
            ]
          },
          "metadata": {},
          "execution_count": 4
        }
      ]
    },
    {
      "cell_type": "code",
      "source": [
        "# Quantidade de linhas e colunas atribuídas a variáveis:\n",
        "\n",
        "l, c = df_insurance_cost.shape"
      ],
      "metadata": {
        "id": "a0OHsSYa5yzR"
      },
      "execution_count": 5,
      "outputs": []
    },
    {
      "cell_type": "code",
      "source": [
        "# Impressão da quantidade de linhas e colunas:\n",
        "\n",
        "print(f'Quantidade de Linhas: {l}\\nQuantidade de Colunas: {c}')"
      ],
      "metadata": {
        "colab": {
          "base_uri": "https://localhost:8080/"
        },
        "id": "U-JGbWtP50W_",
        "outputId": "e4bc85d1-3ccf-46b7-afa7-0c0f231783a1"
      },
      "execution_count": 6,
      "outputs": [
        {
          "output_type": "stream",
          "name": "stdout",
          "text": [
            "Quantidade de Linhas: 1338\n",
            "Quantidade de Colunas: 7\n"
          ]
        }
      ]
    },
    {
      "cell_type": "markdown",
      "source": [
        "#### (2) Tratamento de Dados"
      ],
      "metadata": {
        "id": "yPxw0CuN6GAf"
      }
    },
    {
      "cell_type": "code",
      "source": [
        "# Informações gerais do dataset:\n",
        "\n",
        "df_insurance_cost.info()"
      ],
      "metadata": {
        "colab": {
          "base_uri": "https://localhost:8080/"
        },
        "id": "bpzcIKBI6D5L",
        "outputId": "f76e9f69-bcc8-4cec-95de-9ee3f5513b57"
      },
      "execution_count": 7,
      "outputs": [
        {
          "output_type": "stream",
          "name": "stdout",
          "text": [
            "<class 'pandas.core.frame.DataFrame'>\n",
            "RangeIndex: 1338 entries, 0 to 1337\n",
            "Data columns (total 7 columns):\n",
            " #   Column    Non-Null Count  Dtype  \n",
            "---  ------    --------------  -----  \n",
            " 0   age       1338 non-null   int64  \n",
            " 1   sex       1338 non-null   object \n",
            " 2   bmi       1338 non-null   float64\n",
            " 3   children  1338 non-null   int64  \n",
            " 4   smoker    1338 non-null   object \n",
            " 5   region    1338 non-null   object \n",
            " 6   charges   1338 non-null   float64\n",
            "dtypes: float64(2), int64(2), object(3)\n",
            "memory usage: 73.3+ KB\n"
          ]
        }
      ]
    },
    {
      "cell_type": "code",
      "source": [
        "# Quantidade de dados nulos no dataset:\n",
        "\n",
        "df_insurance_cost.isnull().sum()"
      ],
      "metadata": {
        "colab": {
          "base_uri": "https://localhost:8080/"
        },
        "id": "Q5mSm5i96Jr8",
        "outputId": "48207000-7395-46ab-f8b5-c6783a5a5f70"
      },
      "execution_count": 8,
      "outputs": [
        {
          "output_type": "execute_result",
          "data": {
            "text/plain": [
              "age         0\n",
              "sex         0\n",
              "bmi         0\n",
              "children    0\n",
              "smoker      0\n",
              "region      0\n",
              "charges     0\n",
              "dtype: int64"
            ]
          },
          "metadata": {},
          "execution_count": 8
        }
      ]
    },
    {
      "cell_type": "markdown",
      "source": [
        "#### (3) Análise Exploratória de Dados (EDA)"
      ],
      "metadata": {
        "id": "btGNMUv46N56"
      }
    },
    {
      "cell_type": "markdown",
      "source": [
        "##### (1) Qual é a média de idade dos segurados?"
      ],
      "metadata": {
        "id": "La_axqZT6VHw"
      }
    },
    {
      "cell_type": "code",
      "source": [
        "# Informações estatísticas da idade dos segurados:\n",
        "\n",
        "df_insurance_cost.age.describe().round()"
      ],
      "metadata": {
        "colab": {
          "base_uri": "https://localhost:8080/"
        },
        "id": "-JmXnPce6Q8T",
        "outputId": "bc07d165-7717-44ab-b5ea-1e60e196398b"
      },
      "execution_count": 9,
      "outputs": [
        {
          "output_type": "execute_result",
          "data": {
            "text/plain": [
              "count    1338.0\n",
              "mean       39.0\n",
              "std        14.0\n",
              "min        18.0\n",
              "25%        27.0\n",
              "50%        39.0\n",
              "75%        51.0\n",
              "max        64.0\n",
              "Name: age, dtype: float64"
            ]
          },
          "metadata": {},
          "execution_count": 9
        }
      ]
    },
    {
      "cell_type": "markdown",
      "source": [
        "##### (2) Há correlação estatística entre a idade dos segurados e o custo de seguro médico?"
      ],
      "metadata": {
        "id": "3viAHNLg6ziK"
      }
    },
    {
      "cell_type": "code",
      "source": [
        "# Correlação entre idade e custo de seguro médico:\n",
        "\n",
        "df_insurance_cost.age.corr(df_insurance_cost.charges).round(2)"
      ],
      "metadata": {
        "colab": {
          "base_uri": "https://localhost:8080/"
        },
        "id": "dAX2SqTt6Rwg",
        "outputId": "2c117446-b347-4fc3-b759-a241b191dac3"
      },
      "execution_count": 10,
      "outputs": [
        {
          "output_type": "execute_result",
          "data": {
            "text/plain": [
              "0.3"
            ]
          },
          "metadata": {},
          "execution_count": 10
        }
      ]
    },
    {
      "cell_type": "markdown",
      "source": [
        "##### (3) Qual é a mediana de custos de seguro médico para jovens adultos (20 e 39 anos) e adultos maduros (40 e 64 anos)?"
      ],
      "metadata": {
        "id": "ZdP9YHXQ7jFD"
      }
    },
    {
      "cell_type": "code",
      "source": [
        "# Mediana de custos de seguro médico de jovens adultos:\n",
        "\n",
        "df_insurance_cost[(df_insurance_cost.age >= 20) & (df_insurance_cost.age <= 39)].charges.median()"
      ],
      "metadata": {
        "colab": {
          "base_uri": "https://localhost:8080/"
        },
        "id": "zrO5IZVB7uW6",
        "outputId": "cc22c1f8-0a43-48d1-f6f4-beeb523fe786"
      },
      "execution_count": 11,
      "outputs": [
        {
          "output_type": "execute_result",
          "data": {
            "text/plain": [
              "5080.096"
            ]
          },
          "metadata": {},
          "execution_count": 11
        }
      ]
    },
    {
      "cell_type": "code",
      "source": [
        "# Mediana de custos de seguro médico de adultos maduros:\n",
        "\n",
        "df_insurance_cost[(df_insurance_cost.age >= 40) & (df_insurance_cost.age <= 64)].charges.median()"
      ],
      "metadata": {
        "colab": {
          "base_uri": "https://localhost:8080/"
        },
        "id": "eOxfyFbw73PA",
        "outputId": "b5d23a50-0afc-42d1-8abb-14cfd03f70ee"
      },
      "execution_count": 12,
      "outputs": [
        {
          "output_type": "execute_result",
          "data": {
            "text/plain": [
              "11657.916975"
            ]
          },
          "metadata": {},
          "execution_count": 12
        }
      ]
    },
    {
      "cell_type": "code",
      "source": [
        "# Gráfico de coluna para expor os custos de seguro médico por faixa etária:\n",
        "\n",
        "sns.set_style('darkgrid')\n",
        "plt.figure(figsize = (6, 4))\n",
        "sns.barplot(x=['20 & 39', '40 & 64'], y=[5080.096, 11657.916975])\n",
        "plt.xticks(fontsize = 9, color ='k')\n",
        "plt.yticks(fontsize = 9, color ='k')\n",
        "plt.title('Mediana de Custos de Seguro Médico Por Faixa Etária', \n",
        "          fontsize = 10)\n",
        "plt.show()"
      ],
      "metadata": {
        "colab": {
          "base_uri": "https://localhost:8080/",
          "height": 387
        },
        "id": "nh0TVtu785C_",
        "outputId": "df02e561-e142-4a34-a6c8-4b36b0b6bb1a"
      },
      "execution_count": 13,
      "outputs": [
        {
          "output_type": "display_data",
          "data": {
            "text/plain": [
              "<Figure size 600x400 with 1 Axes>"
            ],
            "image/png": "[encoded data removed]"
          },
          "metadata": {}
        }
      ]
    },
    {
      "cell_type": "markdown",
      "source": [
        "##### (4) Qual é a distribuição estatística da idade dos segurados?"
      ],
      "metadata": {
        "id": "OkROA75Y8VP7"
      }
    },
    {
      "cell_type": "code",
      "source": [
        "# Importação de biblioteca para evitar impressão de avisos:\n",
        "\n",
        "import warnings\n",
        "warnings.filterwarnings('ignore')"
      ],
      "metadata": {
        "id": "VstZ2Qdh9oQO"
      },
      "execution_count": 14,
      "outputs": []
    },
    {
      "cell_type": "code",
      "source": [
        "# Gráfico de distribuição estatística da idade dos segurados:\n",
        "\n",
        "plt.figure(figsize = (6, 4))\n",
        "sns.distplot(df_insurance_cost['age'])\n",
        "plt.xticks(fontsize = 9, color ='k')\n",
        "plt.yticks(fontsize = 9, color ='k')\n",
        "plt.title('Distribuição de Idade', \n",
        "          fontsize = 10)\n",
        "plt.xlabel('')\n",
        "plt.show()"
      ],
      "metadata": {
        "colab": {
          "base_uri": "https://localhost:8080/",
          "height": 387
        },
        "id": "h1CUaB_58XR3",
        "outputId": "26b34075-9691-4d1c-d88e-99cae66fac5a"
      },
      "execution_count": 15,
      "outputs": [
        {
          "output_type": "display_data",
          "data": {
            "text/plain": [
              "<Figure size 600x400 with 1 Axes>"
            ],
            "image/png": "[encoded data removed]"
          },
          "metadata": {}
        }
      ]
    },
    {
      "cell_type": "markdown",
      "source": [
        "##### (5) Qual é a quantidade de segurados por gênero?"
      ],
      "metadata": {
        "id": "ebGAptyS-Agr"
      }
    },
    {
      "cell_type": "code",
      "source": [
        "# Quantidade de segurados por gênero:\n",
        "\n",
        "df_insurance_cost.sex.value_counts()"
      ],
      "metadata": {
        "colab": {
          "base_uri": "https://localhost:8080/"
        },
        "id": "M_9MDNam8ZhF",
        "outputId": "bad0e87e-ecfa-4b27-a4e6-600e91d5ba25"
      },
      "execution_count": 16,
      "outputs": [
        {
          "output_type": "execute_result",
          "data": {
            "text/plain": [
              "male      676\n",
              "female    662\n",
              "Name: sex, dtype: int64"
            ]
          },
          "metadata": {},
          "execution_count": 16
        }
      ]
    },
    {
      "cell_type": "code",
      "source": [
        "# % da quantidade de segurados por gênero:\n",
        "\n",
        "(df_insurance_cost.sex.value_counts(normalize = True) * 100).round(2)"
      ],
      "metadata": {
        "colab": {
          "base_uri": "https://localhost:8080/"
        },
        "id": "0sHil9Wk9_XH",
        "outputId": "c3e07502-18eb-494b-d397-81e6a2ae7018"
      },
      "execution_count": 17,
      "outputs": [
        {
          "output_type": "execute_result",
          "data": {
            "text/plain": [
              "male      50.52\n",
              "female    49.48\n",
              "Name: sex, dtype: float64"
            ]
          },
          "metadata": {},
          "execution_count": 17
        }
      ]
    },
    {
      "cell_type": "markdown",
      "source": [
        "##### (6) Qual é a mediana de custo de seguro médico por gênero?"
      ],
      "metadata": {
        "id": "GReFi7Ik-Qi3"
      }
    },
    {
      "cell_type": "code",
      "source": [
        "# Mediana de custo de seguro médico para segurados do sexo masculino:\n",
        "\n",
        "df_insurance_cost[df_insurance_cost.sex == 'male'].charges.median()"
      ],
      "metadata": {
        "colab": {
          "base_uri": "https://localhost:8080/"
        },
        "id": "Hk_c6tsJ-VM4",
        "outputId": "13e80e00-cf51-47ef-dc80-699d22c16308"
      },
      "execution_count": 18,
      "outputs": [
        {
          "output_type": "execute_result",
          "data": {
            "text/plain": [
              "9369.61575"
            ]
          },
          "metadata": {},
          "execution_count": 18
        }
      ]
    },
    {
      "cell_type": "code",
      "source": [
        "# Mediana de custo de seguro médico para segurados do sexo feminino:\n",
        "\n",
        "df_insurance_cost[df_insurance_cost.sex == 'female'].charges.median()"
      ],
      "metadata": {
        "colab": {
          "base_uri": "https://localhost:8080/"
        },
        "id": "XekpBMEg-bFX",
        "outputId": "9074a0b2-f121-4113-e898-50b2de1b44fc"
      },
      "execution_count": 19,
      "outputs": [
        {
          "output_type": "execute_result",
          "data": {
            "text/plain": [
              "9412.9625"
            ]
          },
          "metadata": {},
          "execution_count": 19
        }
      ]
    },
    {
      "cell_type": "code",
      "source": [
        "# Gráfico de coluna para exibir a mediana de custos de seguro médico por gênero\n",
        "\n",
        "sns.set_style('darkgrid')\n",
        "plt.figure(figsize = (6, 4))\n",
        "sns.barplot(x=['Homem', 'Mulher'], y = [df_insurance_cost[df_insurance_cost.sex == 'male'].charges.median()\n",
        ", df_insurance_cost[df_insurance_cost.sex == 'female'].charges.median()])\n",
        "plt.xticks(fontsize = 9, color ='k')\n",
        "plt.yticks(fontsize = 9, color ='k')\n",
        "plt.title('Mediana de Custos de Seguro Médico Por Gênero', \n",
        "          fontsize = 10)\n",
        "plt.show()"
      ],
      "metadata": {
        "colab": {
          "base_uri": "https://localhost:8080/",
          "height": 387
        },
        "id": "VY23IWAa-fWb",
        "outputId": "74763961-62d7-4373-d5df-ed533f22f876"
      },
      "execution_count": 20,
      "outputs": [
        {
          "output_type": "display_data",
          "data": {
            "text/plain": [
              "<Figure size 600x400 with 1 Axes>"
            ],
            "image/png": "[encoded data removed]"
          },
          "metadata": {}
        }
      ]
    },
    {
      "cell_type": "markdown",
      "source": [
        "##### (7) Qual é a correlação estatística entre IMC (Índice de Massa Corporal) com o custo de seguro médico?"
      ],
      "metadata": {
        "id": "RnE2UQO9-xdq"
      }
    },
    {
      "cell_type": "code",
      "source": [
        "# Correlação entre IMC e custo de seguro médico:\n",
        "\n",
        "df_insurance_cost.bmi.corr(df_insurance_cost['charges']).round(2)"
      ],
      "metadata": {
        "colab": {
          "base_uri": "https://localhost:8080/"
        },
        "id": "vCEghK6b-ziE",
        "outputId": "6aa4d642-62e6-4430-dbd1-633002860fab"
      },
      "execution_count": 21,
      "outputs": [
        {
          "output_type": "execute_result",
          "data": {
            "text/plain": [
              "0.2"
            ]
          },
          "metadata": {},
          "execution_count": 21
        }
      ]
    },
    {
      "cell_type": "markdown",
      "source": [
        "##### (7) Qual é a mediana de custo de seguro médico por segurados abaixo do peso, acima do peso ou com o peso normal (com base no IMC)?"
      ],
      "metadata": {
        "id": "JQHaMZs5_ECC"
      }
    },
    {
      "cell_type": "code",
      "source": [
        "# Mediana de custo de seguro médico para segurados abaixo do peso:\n",
        "\n",
        "df_insurance_cost[df_insurance_cost.bmi <= 18.5].charges.median()"
      ],
      "metadata": {
        "colab": {
          "base_uri": "https://localhost:8080/"
        },
        "id": "oyGy3nB6_eIq",
        "outputId": "1e5de16f-2f2d-44db-b946-3c80f92de67c"
      },
      "execution_count": 22,
      "outputs": [
        {
          "output_type": "execute_result",
          "data": {
            "text/plain": [
              "6640.54485"
            ]
          },
          "metadata": {},
          "execution_count": 22
        }
      ]
    },
    {
      "cell_type": "code",
      "source": [
        "# Mediana de custo de seguro médico para segurados com o peso normal:\n",
        "\n",
        "df_insurance_cost[(df_insurance_cost.bmi >= 18.5) & (df_insurance_cost.bmi <= 24.9)].charges.median()"
      ],
      "metadata": {
        "id": "1xLmmqiN_m6L",
        "colab": {
          "base_uri": "https://localhost:8080/"
        },
        "outputId": "336b05bf-c883-4b26-f7c3-5f36ca7b5ff8"
      },
      "execution_count": 23,
      "outputs": [
        {
          "output_type": "execute_result",
          "data": {
            "text/plain": [
              "8604.153525"
            ]
          },
          "metadata": {},
          "execution_count": 23
        }
      ]
    },
    {
      "cell_type": "code",
      "source": [
        "# Mediana de custo de seguro médico para segurados acima do peso:\n",
        "\n",
        "df_insurance_cost[df_insurance_cost.bmi >= 25].charges.median()"
      ],
      "metadata": {
        "colab": {
          "base_uri": "https://localhost:8080/"
        },
        "id": "kEuGjCLEA5uJ",
        "outputId": "d149984c-8a0a-48c5-f0b0-5fa14ef5802f"
      },
      "execution_count": 24,
      "outputs": [
        {
          "output_type": "execute_result",
          "data": {
            "text/plain": [
              "9563.029"
            ]
          },
          "metadata": {},
          "execution_count": 24
        }
      ]
    },
    {
      "cell_type": "code",
      "source": [
        "# Gráfico de coluna com a mediana de custos de seguro médico por classificação de peso:\n",
        "\n",
        "plt.figure(figsize = (6, 4))\n",
        "sns.barplot(x=['Abaixo do Peso', 'Peso Normal',\n",
        "               'Acima do Peso'], y = [df_insurance_cost[df_insurance_cost.bmi <= 18.5].charges.median()\n",
        ", df_insurance_cost[(df_insurance_cost.bmi >= 18.5) & (df_insurance_cost.bmi <= 24.9)].charges.median(),\n",
        "df_insurance_cost[df_insurance_cost.bmi >= 25].charges.median()])\n",
        "plt.xticks(fontsize = 9, color ='k')\n",
        "plt.yticks(fontsize = 9, color ='k')\n",
        "plt.title('Mediana de Custos de Seguro Médico Por Classificação de Peso', \n",
        "          fontsize = 10)\n",
        "plt.show()"
      ],
      "metadata": {
        "colab": {
          "base_uri": "https://localhost:8080/",
          "height": 387
        },
        "id": "1qzBdSmMBQDm",
        "outputId": "de7d3439-8f45-49c7-d6ce-ce085ce2aa72"
      },
      "execution_count": 25,
      "outputs": [
        {
          "output_type": "display_data",
          "data": {
            "text/plain": [
              "<Figure size 600x400 with 1 Axes>"
            ],
            "image/png": "[encoded data removed]"
          },
          "metadata": {}
        }
      ]
    },
    {
      "cell_type": "markdown",
      "source": [
        "##### (8) Qual é a distribuição estatística do IMC dos segurados?"
      ],
      "metadata": {
        "id": "gYSFN0EaCFKS"
      }
    },
    {
      "cell_type": "code",
      "source": [
        "# Informações estatísticas do IMC dos segurados:\n",
        "\n",
        "df_insurance_cost.bmi.describe().round(2)"
      ],
      "metadata": {
        "colab": {
          "base_uri": "https://localhost:8080/"
        },
        "id": "9xTTVGmqCJ5U",
        "outputId": "d2365c80-6f94-4baf-ff60-a78b7871711a"
      },
      "execution_count": 26,
      "outputs": [
        {
          "output_type": "execute_result",
          "data": {
            "text/plain": [
              "count    1338.00\n",
              "mean       30.66\n",
              "std         6.10\n",
              "min        15.96\n",
              "25%        26.30\n",
              "50%        30.40\n",
              "75%        34.69\n",
              "max        53.13\n",
              "Name: bmi, dtype: float64"
            ]
          },
          "metadata": {},
          "execution_count": 26
        }
      ]
    },
    {
      "cell_type": "code",
      "source": [
        "# Gráfico de distribuição estatística do IMC dos segurados:\n",
        "\n",
        "plt.figure(figsize = (6, 4))\n",
        "sns.distplot(df_insurance_cost['bmi'])\n",
        "plt.xticks(fontsize = 9, color ='k')\n",
        "plt.yticks(fontsize = 9, color ='k')\n",
        "plt.title('Distribuição de IMC (Índice de Massa Corporal)', \n",
        "          fontsize = 10)\n",
        "plt.xlabel('')\n",
        "plt.show()"
      ],
      "metadata": {
        "colab": {
          "base_uri": "https://localhost:8080/",
          "height": 389
        },
        "id": "XyY5_OJ0CNB3",
        "outputId": "8a608c6a-fce7-4716-c2e6-f70e5dc3bfe5"
      },
      "execution_count": 27,
      "outputs": [
        {
          "output_type": "display_data",
          "data": {
            "text/plain": [
              "<Figure size 600x400 with 1 Axes>"
            ],
            "image/png": "[encoded data removed]"
          },
          "metadata": {}
        }
      ]
    },
    {
      "cell_type": "markdown",
      "source": [
        "##### (9) Qual é a quantidade de segurados pela quantidade de filhos?"
      ],
      "metadata": {
        "id": "tsqt-_NwCpUq"
      }
    },
    {
      "cell_type": "code",
      "source": [
        "# Quantidade de segurados por quantidade de filhos:\n",
        "\n",
        "df_insurance_cost.children.value_counts()"
      ],
      "metadata": {
        "colab": {
          "base_uri": "https://localhost:8080/"
        },
        "id": "Ws2Qn8QrCgUx",
        "outputId": "a20926ec-9692-442c-8cd6-5af8f635c119"
      },
      "execution_count": 28,
      "outputs": [
        {
          "output_type": "execute_result",
          "data": {
            "text/plain": [
              "0    574\n",
              "1    324\n",
              "2    240\n",
              "3    157\n",
              "4     25\n",
              "5     18\n",
              "Name: children, dtype: int64"
            ]
          },
          "metadata": {},
          "execution_count": 28
        }
      ]
    },
    {
      "cell_type": "code",
      "source": [
        "# % da quantidade de segurados por quantidade de filhos:\n",
        "\n",
        "(df_insurance_cost.children.value_counts(normalize = True) * 100).round(2)"
      ],
      "metadata": {
        "colab": {
          "base_uri": "https://localhost:8080/"
        },
        "id": "zmY-5kngCnn7",
        "outputId": "44611cf1-d662-464f-94fb-a26e0cc980be"
      },
      "execution_count": 29,
      "outputs": [
        {
          "output_type": "execute_result",
          "data": {
            "text/plain": [
              "0    42.90\n",
              "1    24.22\n",
              "2    17.94\n",
              "3    11.73\n",
              "4     1.87\n",
              "5     1.35\n",
              "Name: children, dtype: float64"
            ]
          },
          "metadata": {},
          "execution_count": 29
        }
      ]
    },
    {
      "cell_type": "code",
      "source": [
        "# Gráfico de coluna com a quantidade de segurados por quantidade de filhos:\n",
        "\n",
        "plt.figure(figsize = (6, 4))\n",
        "sns.countplot(x = 'children', data = df_insurance_cost)\n",
        "plt.xticks(fontsize = 9, color ='k')\n",
        "plt.yticks(fontsize = 9, color ='k')\n",
        "plt.title('Quantidade de Segurados Por Quantidade de Filhos', \n",
        "          fontsize = 10)\n",
        "plt.ylabel('')\n",
        "plt.xlabel('')\n",
        "plt.show()"
      ],
      "metadata": {
        "colab": {
          "base_uri": "https://localhost:8080/",
          "height": 387
        },
        "id": "c-29TUbmC48Z",
        "outputId": "06bb7200-a9bd-4838-c231-a56ddc4e99b7"
      },
      "execution_count": 30,
      "outputs": [
        {
          "output_type": "display_data",
          "data": {
            "text/plain": [
              "<Figure size 600x400 with 1 Axes>"
            ],
            "image/png": "[encoded data removed]"
          },
          "metadata": {}
        }
      ]
    },
    {
      "cell_type": "markdown",
      "source": [
        "##### (10) Qual é a mediana de custos de seguro médico com base na quantidade de filhos do segurado?"
      ],
      "metadata": {
        "id": "EINdIrEXDM80"
      }
    },
    {
      "cell_type": "code",
      "source": [
        "# Mediana de custos de seguro médico com base na quantidade de filhos do segurado:\n",
        "\n",
        "df_insurance_cost.groupby('children').agg({'charges': 'median'}).rename(columns = {'charges': 'median_charges'}).sort_values(\n",
        "    'median_charges', ascending = False\n",
        ").round(2)"
      ],
      "metadata": {
        "colab": {
          "base_uri": "https://localhost:8080/",
          "height": 269
        },
        "id": "JqMvNFGSDUrQ",
        "outputId": "07d6e306-a7b3-4b63-f26c-95bca7a10ac3"
      },
      "execution_count": 31,
      "outputs": [
        {
          "output_type": "execute_result",
          "data": {
            "text/plain": [
              "          median_charges\n",
              "children                \n",
              "4               11033.66\n",
              "3               10600.55\n",
              "0                9856.95\n",
              "2                9264.98\n",
              "5                8589.57\n",
              "1                8483.87"
            ],
            "text/html": [
              "\n",
              "  <div id=\"df-0f8312bf-7edd-4e03-a5bb-862427fcfa13\">\n",
              "    <div class=\"colab-df-container\">\n",
              "      <div>\n",
              "<style scoped>\n",
              "    .dataframe tbody tr th:only-of-type {\n",
              "        vertical-align: middle;\n",
              "    }\n",
              "\n",
              "    .dataframe tbody tr th {\n",
              "        vertical-align: top;\n",
              "    }\n",
              "\n",
              "    .dataframe thead th {\n",
              "        text-align: right;\n",
              "    }\n",
              "</style>\n",
              "<table border=\"1\" class=\"dataframe\">\n",
              "  <thead>\n",
              "    <tr style=\"text-align: right;\">\n",
              "      <th></th>\n",
              "      <th>median_charges</th>\n",
              "    </tr>\n",
              "    <tr>\n",
              "      <th>children</th>\n",
              "      <th></th>\n",
              "    </tr>\n",
              "  </thead>\n",
              "  <tbody>\n",
              "    <tr>\n",
              "      <th>4</th>\n",
              "      <td>11033.66</td>\n",
              "    </tr>\n",
              "    <tr>\n",
              "      <th>3</th>\n",
              "      <td>10600.55</td>\n",
              "    </tr>\n",
              "    <tr>\n",
              "      <th>0</th>\n",
              "      <td>9856.95</td>\n",
              "    </tr>\n",
              "    <tr>\n",
              "      <th>2</th>\n",
              "      <td>9264.98</td>\n",
              "    </tr>\n",
              "    <tr>\n",
              "      <th>5</th>\n",
              "      <td>8589.57</td>\n",
              "    </tr>\n",
              "    <tr>\n",
              "      <th>1</th>\n",
              "      <td>8483.87</td>\n",
              "    </tr>\n",
              "  </tbody>\n",
              "</table>\n",
              "</div>\n",
              "      <button class=\"colab-df-convert\" onclick=\"convertToInteractive('df-0f8312bf-7edd-4e03-a5bb-862427fcfa13')\"\n",
              "              title=\"Convert this dataframe to an interactive table.\"\n",
              "              style=\"display:none;\">\n",
              "        \n",
              "  <svg xmlns=\"http://www.w3.org/2000/svg\" height=\"24px\"viewBox=\"0 0 24 24\"\n",
              "       width=\"24px\">\n",
              "    <path d=\"M0 0h24v24H0V0z\" fill=\"none\"/>\n",
              "    <path d=\"M18.56 5.44l.94 2.06.94-2.06 2.06-.94-2.06-.94-.94-2.06-.94 2.06-2.06.94zm-11 1L8.5 8.5l.94-2.06 2.06-.94-2.06-.94L8.5 2.5l-.94 2.06-2.06.94zm10 10l.94 2.06.94-2.06 2.06-.94-2.06-.94-.94-2.06-.94 2.06-2.06.94z\"/><path d=\"M17.41 7.96l-1.37-1.37c-.4-.4-.92-.59-1.43-.59-.52 0-1.04.2-1.43.59L10.3 9.45l-7.72 7.72c-.78.78-.78 2.05 0 2.83L4 21.41c.39.39.9.59 1.41.59.51 0 1.02-.2 1.41-.59l7.78-7.78 2.81-2.81c.8-.78.8-2.07 0-2.86zM5.41 20L4 18.59l7.72-7.72 1.47 1.35L5.41 20z\"/>\n",
              "  </svg>\n",
              "      </button>\n",
              "      \n",
              "  <style>\n",
              "    .colab-df-container {\n",
              "      display:flex;\n",
              "      flex-wrap:wrap;\n",
              "      gap: 12px;\n",
              "    }\n",
              "\n",
              "    .colab-df-convert {\n",
              "      background-color: #E8F0FE;\n",
              "      border: none;\n",
              "      border-radius: 50%;\n",
              "      cursor: pointer;\n",
              "      display: none;\n",
              "      fill: #1967D2;\n",
              "      height: 32px;\n",
              "      padding: 0 0 0 0;\n",
              "      width: 32px;\n",
              "    }\n",
              "\n",
              "    .colab-df-convert:hover {\n",
              "      background-color: #E2EBFA;\n",
              "      box-shadow: 0px 1px 2px rgba(60, 64, 67, 0.3), 0px 1px 3px 1px rgba(60, 64, 67, 0.15);\n",
              "      fill: #174EA6;\n",
              "    }\n",
              "\n",
              "    [theme=dark] .colab-df-convert {\n",
              "      background-color: #3B4455;\n",
              "      fill: #D2E3FC;\n",
              "    }\n",
              "\n",
              "    [theme=dark] .colab-df-convert:hover {\n",
              "      background-color: #434B5C;\n",
              "      box-shadow: 0px 1px 3px 1px rgba(0, 0, 0, 0.15);\n",
              "      filter: drop-shadow(0px 1px 2px rgba(0, 0, 0, 0.3));\n",
              "      fill: #FFFFFF;\n",
              "    }\n",
              "  </style>\n",
              "\n",
              "      <script>\n",
              "        const buttonEl =\n",
              "          document.querySelector('#df-0f8312bf-7edd-4e03-a5bb-862427fcfa13 button.colab-df-convert');\n",
              "        buttonEl.style.display =\n",
              "          google.colab.kernel.accessAllowed ? 'block' : 'none';\n",
              "\n",
              "        async function convertToInteractive(key) {\n",
              "          const element = document.querySelector('#df-0f8312bf-7edd-4e03-a5bb-862427fcfa13');\n",
              "          const dataTable =\n",
              "            await google.colab.kernel.invokeFunction('convertToInteractive',\n",
              "                                                     [key], {});\n",
              "          if (!dataTable) return;\n",
              "\n",
              "          const docLinkHtml = 'Like what you see? Visit the ' +\n",
              "            '<a target=\"_blank\" href=https://colab.research.google.com/notebooks/data_table.ipynb>data table notebook</a>'\n",
              "            + ' to learn more about interactive tables.';\n",
              "          element.innerHTML = '';\n",
              "          dataTable['output_type'] = 'display_data';\n",
              "          await google.colab.output.renderOutput(dataTable, element);\n",
              "          const docLink = document.createElement('div');\n",
              "          docLink.innerHTML = docLinkHtml;\n",
              "          element.appendChild(docLink);\n",
              "        }\n",
              "      </script>\n",
              "    </div>\n",
              "  </div>\n",
              "  "
            ]
          },
          "metadata": {},
          "execution_count": 31
        }
      ]
    },
    {
      "cell_type": "markdown",
      "source": [
        "##### (11) Qual é a mediana de custos de seguro médico por fumantes e não-fumantes?"
      ],
      "metadata": {
        "id": "AOtmrw1qDtN4"
      }
    },
    {
      "cell_type": "code",
      "source": [
        "# Quantidade de segurados fumantes e não-fumantes:\n",
        "\n",
        "df_insurance_cost.smoker.value_counts()"
      ],
      "metadata": {
        "colab": {
          "base_uri": "https://localhost:8080/"
        },
        "id": "AEJ9mJ3EDzlA",
        "outputId": "e18ab758-af11-4d09-80cf-db42a47e7ca4"
      },
      "execution_count": 32,
      "outputs": [
        {
          "output_type": "execute_result",
          "data": {
            "text/plain": [
              "no     1064\n",
              "yes     274\n",
              "Name: smoker, dtype: int64"
            ]
          },
          "metadata": {},
          "execution_count": 32
        }
      ]
    },
    {
      "cell_type": "code",
      "source": [
        "# % de quantidade de segurados fumantes e não-fumantes:\n",
        "\n",
        "\n",
        "((df_insurance_cost.smoker.value_counts(normalize = True)) * 100).round(2)"
      ],
      "metadata": {
        "colab": {
          "base_uri": "https://localhost:8080/"
        },
        "id": "WI8fjqC5D0Qs",
        "outputId": "b0ce4151-ac63-4c15-9705-238885efcb20"
      },
      "execution_count": 33,
      "outputs": [
        {
          "output_type": "execute_result",
          "data": {
            "text/plain": [
              "no     79.52\n",
              "yes    20.48\n",
              "Name: smoker, dtype: float64"
            ]
          },
          "metadata": {},
          "execution_count": 33
        }
      ]
    },
    {
      "cell_type": "code",
      "source": [
        "# Mediana de custo de seguro médico para fumantes e não-fumantes:\n",
        "\n",
        "df_insurance_cost.groupby('smoker').agg({'charges': 'median'}).rename(columns = {'charges': 'median_charges'}).sort_values(\n",
        "    'median_charges', ascending = False\n",
        ").round(2)"
      ],
      "metadata": {
        "colab": {
          "base_uri": "https://localhost:8080/",
          "height": 143
        },
        "id": "N1Fw-PWZD_VJ",
        "outputId": "0d13a736-1240-420b-8c9e-daf45ee840bf"
      },
      "execution_count": 34,
      "outputs": [
        {
          "output_type": "execute_result",
          "data": {
            "text/plain": [
              "        median_charges\n",
              "smoker                \n",
              "yes           34456.35\n",
              "no             7345.41"
            ],
            "text/html": [
              "\n",
              "  <div id=\"df-67568d57-5d17-4ffc-b8de-aa04cfe375a2\">\n",
              "    <div class=\"colab-df-container\">\n",
              "      <div>\n",
              "<style scoped>\n",
              "    .dataframe tbody tr th:only-of-type {\n",
              "        vertical-align: middle;\n",
              "    }\n",
              "\n",
              "    .dataframe tbody tr th {\n",
              "        vertical-align: top;\n",
              "    }\n",
              "\n",
              "    .dataframe thead th {\n",
              "        text-align: right;\n",
              "    }\n",
              "</style>\n",
              "<table border=\"1\" class=\"dataframe\">\n",
              "  <thead>\n",
              "    <tr style=\"text-align: right;\">\n",
              "      <th></th>\n",
              "      <th>median_charges</th>\n",
              "    </tr>\n",
              "    <tr>\n",
              "      <th>smoker</th>\n",
              "      <th></th>\n",
              "    </tr>\n",
              "  </thead>\n",
              "  <tbody>\n",
              "    <tr>\n",
              "      <th>yes</th>\n",
              "      <td>34456.35</td>\n",
              "    </tr>\n",
              "    <tr>\n",
              "      <th>no</th>\n",
              "      <td>7345.41</td>\n",
              "    </tr>\n",
              "  </tbody>\n",
              "</table>\n",
              "</div>\n",
              "      <button class=\"colab-df-convert\" onclick=\"convertToInteractive('df-67568d57-5d17-4ffc-b8de-aa04cfe375a2')\"\n",
              "              title=\"Convert this dataframe to an interactive table.\"\n",
              "              style=\"display:none;\">\n",
              "        \n",
              "  <svg xmlns=\"http://www.w3.org/2000/svg\" height=\"24px\"viewBox=\"0 0 24 24\"\n",
              "       width=\"24px\">\n",
              "    <path d=\"M0 0h24v24H0V0z\" fill=\"none\"/>\n",
              "    <path d=\"M18.56 5.44l.94 2.06.94-2.06 2.06-.94-2.06-.94-.94-2.06-.94 2.06-2.06.94zm-11 1L8.5 8.5l.94-2.06 2.06-.94-2.06-.94L8.5 2.5l-.94 2.06-2.06.94zm10 10l.94 2.06.94-2.06 2.06-.94-2.06-.94-.94-2.06-.94 2.06-2.06.94z\"/><path d=\"M17.41 7.96l-1.37-1.37c-.4-.4-.92-.59-1.43-.59-.52 0-1.04.2-1.43.59L10.3 9.45l-7.72 7.72c-.78.78-.78 2.05 0 2.83L4 21.41c.39.39.9.59 1.41.59.51 0 1.02-.2 1.41-.59l7.78-7.78 2.81-2.81c.8-.78.8-2.07 0-2.86zM5.41 20L4 18.59l7.72-7.72 1.47 1.35L5.41 20z\"/>\n",
              "  </svg>\n",
              "      </button>\n",
              "      \n",
              "  <style>\n",
              "    .colab-df-container {\n",
              "      display:flex;\n",
              "      flex-wrap:wrap;\n",
              "      gap: 12px;\n",
              "    }\n",
              "\n",
              "    .colab-df-convert {\n",
              "      background-color: #E8F0FE;\n",
              "      border: none;\n",
              "      border-radius: 50%;\n",
              "      cursor: pointer;\n",
              "      display: none;\n",
              "      fill: #1967D2;\n",
              "      height: 32px;\n",
              "      padding: 0 0 0 0;\n",
              "      width: 32px;\n",
              "    }\n",
              "\n",
              "    .colab-df-convert:hover {\n",
              "      background-color: #E2EBFA;\n",
              "      box-shadow: 0px 1px 2px rgba(60, 64, 67, 0.3), 0px 1px 3px 1px rgba(60, 64, 67, 0.15);\n",
              "      fill: #174EA6;\n",
              "    }\n",
              "\n",
              "    [theme=dark] .colab-df-convert {\n",
              "      background-color: #3B4455;\n",
              "      fill: #D2E3FC;\n",
              "    }\n",
              "\n",
              "    [theme=dark] .colab-df-convert:hover {\n",
              "      background-color: #434B5C;\n",
              "      box-shadow: 0px 1px 3px 1px rgba(0, 0, 0, 0.15);\n",
              "      filter: drop-shadow(0px 1px 2px rgba(0, 0, 0, 0.3));\n",
              "      fill: #FFFFFF;\n",
              "    }\n",
              "  </style>\n",
              "\n",
              "      <script>\n",
              "        const buttonEl =\n",
              "          document.querySelector('#df-67568d57-5d17-4ffc-b8de-aa04cfe375a2 button.colab-df-convert');\n",
              "        buttonEl.style.display =\n",
              "          google.colab.kernel.accessAllowed ? 'block' : 'none';\n",
              "\n",
              "        async function convertToInteractive(key) {\n",
              "          const element = document.querySelector('#df-67568d57-5d17-4ffc-b8de-aa04cfe375a2');\n",
              "          const dataTable =\n",
              "            await google.colab.kernel.invokeFunction('convertToInteractive',\n",
              "                                                     [key], {});\n",
              "          if (!dataTable) return;\n",
              "\n",
              "          const docLinkHtml = 'Like what you see? Visit the ' +\n",
              "            '<a target=\"_blank\" href=https://colab.research.google.com/notebooks/data_table.ipynb>data table notebook</a>'\n",
              "            + ' to learn more about interactive tables.';\n",
              "          element.innerHTML = '';\n",
              "          dataTable['output_type'] = 'display_data';\n",
              "          await google.colab.output.renderOutput(dataTable, element);\n",
              "          const docLink = document.createElement('div');\n",
              "          docLink.innerHTML = docLinkHtml;\n",
              "          element.appendChild(docLink);\n",
              "        }\n",
              "      </script>\n",
              "    </div>\n",
              "  </div>\n",
              "  "
            ]
          },
          "metadata": {},
          "execution_count": 34
        }
      ]
    },
    {
      "cell_type": "code",
      "source": [
        "# Distribuição estatística de custo de seguro médico por segurados fumantes e não-fumantes:\n",
        "\n",
        "plt.figure(figsize = (6, 4))\n",
        "sns.histplot(df_insurance_cost[df_insurance_cost['smoker'] == 'no'].charges, label = 'Não-Fumante',\n",
        "             kde = False)\n",
        "sns.histplot(df_insurance_cost[df_insurance_cost['smoker'] == 'yes'].charges, label = 'Fumante',\n",
        "             kde = False, color = sns.color_palette('viridis')[1])\n",
        "\n",
        "plt.xlabel('Custo ($)', fontsize = 9, color = 'k')\n",
        "plt.xticks( fontsize = 9, color = 'k')\n",
        "plt.yticks(fontsize = 9, color = 'k')\n",
        "plt.ylabel('')\n",
        "plt.title('Custo de Seguro Médico Por Fumantes & Não-Fumantes', fontsize = 10, color = 'k')\n",
        "plt.legend(edgecolor = 'k', fontsize = 9);"
      ],
      "metadata": {
        "colab": {
          "base_uri": "https://localhost:8080/",
          "height": 406
        },
        "id": "yzf8IuJnEPIM",
        "outputId": "ca9f789c-2352-4532-c023-2c23e6736f6d"
      },
      "execution_count": 35,
      "outputs": [
        {
          "output_type": "display_data",
          "data": {
            "text/plain": [
              "<Figure size 600x400 with 1 Axes>"
            ],
            "image/png": "[encoded data removed]"
          },
          "metadata": {}
        }
      ]
    },
    {
      "cell_type": "markdown",
      "source": [
        "##### (12) Qual é o custo de seguro médico por região?"
      ],
      "metadata": {
        "id": "P0BNB-VQEP6H"
      }
    },
    {
      "cell_type": "code",
      "source": [
        "# Quantidade de segurados por região:\n",
        "\n",
        "df_insurance_cost.region.value_counts()"
      ],
      "metadata": {
        "colab": {
          "base_uri": "https://localhost:8080/"
        },
        "id": "7LhRjyQwFsDh",
        "outputId": "b6edae97-930f-4172-b3f3-6c678a12c955"
      },
      "execution_count": 36,
      "outputs": [
        {
          "output_type": "execute_result",
          "data": {
            "text/plain": [
              "southeast    364\n",
              "southwest    325\n",
              "northwest    325\n",
              "northeast    324\n",
              "Name: region, dtype: int64"
            ]
          },
          "metadata": {},
          "execution_count": 36
        }
      ]
    },
    {
      "cell_type": "code",
      "source": [
        "# % de quantidade de segurados por região:\n",
        "\n",
        "(df_insurance_cost.region.value_counts(normalize = True) * 100).round(2)"
      ],
      "metadata": {
        "colab": {
          "base_uri": "https://localhost:8080/"
        },
        "id": "UBQSamzNFv91",
        "outputId": "4e1dc2c4-938b-4957-ab54-f2a177b22b1c"
      },
      "execution_count": 37,
      "outputs": [
        {
          "output_type": "execute_result",
          "data": {
            "text/plain": [
              "southeast    27.20\n",
              "southwest    24.29\n",
              "northwest    24.29\n",
              "northeast    24.22\n",
              "Name: region, dtype: float64"
            ]
          },
          "metadata": {},
          "execution_count": 37
        }
      ]
    },
    {
      "cell_type": "code",
      "source": [
        "# Mediana de custo de seguro médico por região:\n",
        "\n",
        "df_insurance_cost.groupby('region').agg({'charges': 'median'}).rename(columns = {'charges': 'median_charges'}).sort_values(\n",
        "    'median_charges', ascending = False\n",
        ").reset_index().round(2)"
      ],
      "metadata": {
        "colab": {
          "base_uri": "https://localhost:8080/",
          "height": 175
        },
        "id": "vx6DsBOyEFQ6",
        "outputId": "ee7b6d3f-3ec5-46dc-e99a-8ec8ef934cab"
      },
      "execution_count": 38,
      "outputs": [
        {
          "output_type": "execute_result",
          "data": {
            "text/plain": [
              "      region  median_charges\n",
              "0  northeast        10057.65\n",
              "1  southeast         9294.13\n",
              "2  northwest         8965.80\n",
              "3  southwest         8798.59"
            ],
            "text/html": [
              "\n",
              "  <div id=\"df-94ff8ea4-7b34-4c89-92e1-024562b42e2d\">\n",
              "    <div class=\"colab-df-container\">\n",
              "      <div>\n",
              "<style scoped>\n",
              "    .dataframe tbody tr th:only-of-type {\n",
              "        vertical-align: middle;\n",
              "    }\n",
              "\n",
              "    .dataframe tbody tr th {\n",
              "        vertical-align: top;\n",
              "    }\n",
              "\n",
              "    .dataframe thead th {\n",
              "        text-align: right;\n",
              "    }\n",
              "</style>\n",
              "<table border=\"1\" class=\"dataframe\">\n",
              "  <thead>\n",
              "    <tr style=\"text-align: right;\">\n",
              "      <th></th>\n",
              "      <th>region</th>\n",
              "      <th>median_charges</th>\n",
              "    </tr>\n",
              "  </thead>\n",
              "  <tbody>\n",
              "    <tr>\n",
              "      <th>0</th>\n",
              "      <td>northeast</td>\n",
              "      <td>10057.65</td>\n",
              "    </tr>\n",
              "    <tr>\n",
              "      <th>1</th>\n",
              "      <td>southeast</td>\n",
              "      <td>9294.13</td>\n",
              "    </tr>\n",
              "    <tr>\n",
              "      <th>2</th>\n",
              "      <td>northwest</td>\n",
              "      <td>8965.80</td>\n",
              "    </tr>\n",
              "    <tr>\n",
              "      <th>3</th>\n",
              "      <td>southwest</td>\n",
              "      <td>8798.59</td>\n",
              "    </tr>\n",
              "  </tbody>\n",
              "</table>\n",
              "</div>\n",
              "      <button class=\"colab-df-convert\" onclick=\"convertToInteractive('df-94ff8ea4-7b34-4c89-92e1-024562b42e2d')\"\n",
              "              title=\"Convert this dataframe to an interactive table.\"\n",
              "              style=\"display:none;\">\n",
              "        \n",
              "  <svg xmlns=\"http://www.w3.org/2000/svg\" height=\"24px\"viewBox=\"0 0 24 24\"\n",
              "       width=\"24px\">\n",
              "    <path d=\"M0 0h24v24H0V0z\" fill=\"none\"/>\n",
              "    <path d=\"M18.56 5.44l.94 2.06.94-2.06 2.06-.94-2.06-.94-.94-2.06-.94 2.06-2.06.94zm-11 1L8.5 8.5l.94-2.06 2.06-.94-2.06-.94L8.5 2.5l-.94 2.06-2.06.94zm10 10l.94 2.06.94-2.06 2.06-.94-2.06-.94-.94-2.06-.94 2.06-2.06.94z\"/><path d=\"M17.41 7.96l-1.37-1.37c-.4-.4-.92-.59-1.43-.59-.52 0-1.04.2-1.43.59L10.3 9.45l-7.72 7.72c-.78.78-.78 2.05 0 2.83L4 21.41c.39.39.9.59 1.41.59.51 0 1.02-.2 1.41-.59l7.78-7.78 2.81-2.81c.8-.78.8-2.07 0-2.86zM5.41 20L4 18.59l7.72-7.72 1.47 1.35L5.41 20z\"/>\n",
              "  </svg>\n",
              "      </button>\n",
              "      \n",
              "  <style>\n",
              "    .colab-df-container {\n",
              "      display:flex;\n",
              "      flex-wrap:wrap;\n",
              "      gap: 12px;\n",
              "    }\n",
              "\n",
              "    .colab-df-convert {\n",
              "      background-color: #E8F0FE;\n",
              "      border: none;\n",
              "      border-radius: 50%;\n",
              "      cursor: pointer;\n",
              "      display: none;\n",
              "      fill: #1967D2;\n",
              "      height: 32px;\n",
              "      padding: 0 0 0 0;\n",
              "      width: 32px;\n",
              "    }\n",
              "\n",
              "    .colab-df-convert:hover {\n",
              "      background-color: #E2EBFA;\n",
              "      box-shadow: 0px 1px 2px rgba(60, 64, 67, 0.3), 0px 1px 3px 1px rgba(60, 64, 67, 0.15);\n",
              "      fill: #174EA6;\n",
              "    }\n",
              "\n",
              "    [theme=dark] .colab-df-convert {\n",
              "      background-color: #3B4455;\n",
              "      fill: #D2E3FC;\n",
              "    }\n",
              "\n",
              "    [theme=dark] .colab-df-convert:hover {\n",
              "      background-color: #434B5C;\n",
              "      box-shadow: 0px 1px 3px 1px rgba(0, 0, 0, 0.15);\n",
              "      filter: drop-shadow(0px 1px 2px rgba(0, 0, 0, 0.3));\n",
              "      fill: #FFFFFF;\n",
              "    }\n",
              "  </style>\n",
              "\n",
              "      <script>\n",
              "        const buttonEl =\n",
              "          document.querySelector('#df-94ff8ea4-7b34-4c89-92e1-024562b42e2d button.colab-df-convert');\n",
              "        buttonEl.style.display =\n",
              "          google.colab.kernel.accessAllowed ? 'block' : 'none';\n",
              "\n",
              "        async function convertToInteractive(key) {\n",
              "          const element = document.querySelector('#df-94ff8ea4-7b34-4c89-92e1-024562b42e2d');\n",
              "          const dataTable =\n",
              "            await google.colab.kernel.invokeFunction('convertToInteractive',\n",
              "                                                     [key], {});\n",
              "          if (!dataTable) return;\n",
              "\n",
              "          const docLinkHtml = 'Like what you see? Visit the ' +\n",
              "            '<a target=\"_blank\" href=https://colab.research.google.com/notebooks/data_table.ipynb>data table notebook</a>'\n",
              "            + ' to learn more about interactive tables.';\n",
              "          element.innerHTML = '';\n",
              "          dataTable['output_type'] = 'display_data';\n",
              "          await google.colab.output.renderOutput(dataTable, element);\n",
              "          const docLink = document.createElement('div');\n",
              "          docLink.innerHTML = docLinkHtml;\n",
              "          element.appendChild(docLink);\n",
              "        }\n",
              "      </script>\n",
              "    </div>\n",
              "  </div>\n",
              "  "
            ]
          },
          "metadata": {},
          "execution_count": 38
        }
      ]
    },
    {
      "cell_type": "code",
      "source": [
        "# Gráfico de coluna com a mediana de custo de seguro médico por região: \n",
        "\n",
        "plt.figure(figsize = (6, 4))\n",
        "sns.barplot(x = 'region', y = 'median_charges', data = df_insurance_cost.groupby('region'\n",
        ").agg({'charges': 'median'}).rename(columns = {'charges': 'median_charges'}).sort_values(\n",
        "    'median_charges', ascending = False\n",
        ").reset_index().round(2))\n",
        "plt.xticks(fontsize = 9, color ='k')\n",
        "plt.yticks(fontsize = 9, color ='k')\n",
        "plt.title('Mediana de Custos de Seguro Médico Por Região', \n",
        "          fontsize = 10)\n",
        "plt.ylabel('')\n",
        "plt.xlabel('')\n",
        "plt.show()"
      ],
      "metadata": {
        "colab": {
          "base_uri": "https://localhost:8080/",
          "height": 387
        },
        "id": "8M4XwcToENyH",
        "outputId": "9d612324-3947-4f71-b63b-0315e120e191"
      },
      "execution_count": 39,
      "outputs": [
        {
          "output_type": "display_data",
          "data": {
            "text/plain": [
              "<Figure size 600x400 with 1 Axes>"
            ],
            "image/png": "[encoded data removed]"
          },
          "metadata": {}
        }
      ]
    },
    {
      "cell_type": "markdown",
      "source": [
        "##### (13) Qual é a distribuição estatística do custos de seguro médico?"
      ],
      "metadata": {
        "id": "iE2TMiz0NUIb"
      }
    },
    {
      "cell_type": "code",
      "source": [
        "# Informações estatísticas do custo de seguro médico dos segurados:\n",
        "\n",
        "df_insurance_cost.charges.describe().round(2)"
      ],
      "metadata": {
        "colab": {
          "base_uri": "https://localhost:8080/"
        },
        "id": "D5ILLF2MGj7D",
        "outputId": "ed20acb3-6254-4fa8-ca1d-10709f325919"
      },
      "execution_count": 40,
      "outputs": [
        {
          "output_type": "execute_result",
          "data": {
            "text/plain": [
              "count     1338.00\n",
              "mean     13270.42\n",
              "std      12110.01\n",
              "min       1121.87\n",
              "25%       4740.29\n",
              "50%       9382.03\n",
              "75%      16639.91\n",
              "max      63770.43\n",
              "Name: charges, dtype: float64"
            ]
          },
          "metadata": {},
          "execution_count": 40
        }
      ]
    },
    {
      "cell_type": "code",
      "source": [
        "# Distribuição estatística do custo de seguro médico:\n",
        "\n",
        "plt.figure(figsize = (6, 4))\n",
        "sns.distplot(df_insurance_cost['charges'])\n",
        "plt.xticks(fontsize = 9, color ='k')\n",
        "plt.yticks(fontsize = 9, color ='k')\n",
        "plt.title('Distribuição de Custos de Seguro Médico ($)', \n",
        "          fontsize = 10)\n",
        "plt.xlabel('')\n",
        "plt.show()"
      ],
      "metadata": {
        "colab": {
          "base_uri": "https://localhost:8080/",
          "height": 387
        },
        "id": "VsSqQXODNSkF",
        "outputId": "06baf725-bae7-4c88-e991-03b75f3469f1"
      },
      "execution_count": 41,
      "outputs": [
        {
          "output_type": "display_data",
          "data": {
            "text/plain": [
              "<Figure size 600x400 with 1 Axes>"
            ],
            "image/png": "[encoded data removed]"
          },
          "metadata": {}
        }
      ]
    },
    {
      "cell_type": "markdown",
      "source": [
        "#### Pré-Processamento de Dados"
      ],
      "metadata": {
        "id": "Gw9Sd-rkN1OV"
      }
    },
    {
      "cell_type": "markdown",
      "source": [
        "##### Label-Encoding"
      ],
      "metadata": {
        "id": "_0y5QiZQOfWy"
      }
    },
    {
      "cell_type": "code",
      "source": [
        "# Label-Encoding das variáveis 'sex' e 'smoker':\n",
        "\n",
        "df_insurance_cost.replace({'sex': {'female': 0, 'male': 1},\n",
        "           'smoker': {'no': 0, 'yes': 1}}, inplace = True)"
      ],
      "metadata": {
        "id": "mZ9KwR9dOimd"
      },
      "execution_count": 42,
      "outputs": []
    },
    {
      "cell_type": "code",
      "source": [
        "# Visualização da aplicação do Label-Encoding sobre tais variáveis:\n",
        "\n",
        "df_insurance_cost[['sex', 'smoker']].head()"
      ],
      "metadata": {
        "colab": {
          "base_uri": "https://localhost:8080/",
          "height": 206
        },
        "id": "tMWgPXfqOsOo",
        "outputId": "06dd9a35-a8df-4d2b-8c48-f3953bbb3f9b"
      },
      "execution_count": 43,
      "outputs": [
        {
          "output_type": "execute_result",
          "data": {
            "text/plain": [
              "   sex  smoker\n",
              "0    0       1\n",
              "1    1       0\n",
              "2    1       0\n",
              "3    1       0\n",
              "4    1       0"
            ],
            "text/html": [
              "\n",
              "  <div id=\"df-0b393c7c-3308-4754-97d4-8a598314a10e\">\n",
              "    <div class=\"colab-df-container\">\n",
              "      <div>\n",
              "<style scoped>\n",
              "    .dataframe tbody tr th:only-of-type {\n",
              "        vertical-align: middle;\n",
              "    }\n",
              "\n",
              "    .dataframe tbody tr th {\n",
              "        vertical-align: top;\n",
              "    }\n",
              "\n",
              "    .dataframe thead th {\n",
              "        text-align: right;\n",
              "    }\n",
              "</style>\n",
              "<table border=\"1\" class=\"dataframe\">\n",
              "  <thead>\n",
              "    <tr style=\"text-align: right;\">\n",
              "      <th></th>\n",
              "      <th>sex</th>\n",
              "      <th>smoker</th>\n",
              "    </tr>\n",
              "  </thead>\n",
              "  <tbody>\n",
              "    <tr>\n",
              "      <th>0</th>\n",
              "      <td>0</td>\n",
              "      <td>1</td>\n",
              "    </tr>\n",
              "    <tr>\n",
              "      <th>1</th>\n",
              "      <td>1</td>\n",
              "      <td>0</td>\n",
              "    </tr>\n",
              "    <tr>\n",
              "      <th>2</th>\n",
              "      <td>1</td>\n",
              "      <td>0</td>\n",
              "    </tr>\n",
              "    <tr>\n",
              "      <th>3</th>\n",
              "      <td>1</td>\n",
              "      <td>0</td>\n",
              "    </tr>\n",
              "    <tr>\n",
              "      <th>4</th>\n",
              "      <td>1</td>\n",
              "      <td>0</td>\n",
              "    </tr>\n",
              "  </tbody>\n",
              "</table>\n",
              "</div>\n",
              "      <button class=\"colab-df-convert\" onclick=\"convertToInteractive('df-0b393c7c-3308-4754-97d4-8a598314a10e')\"\n",
              "              title=\"Convert this dataframe to an interactive table.\"\n",
              "              style=\"display:none;\">\n",
              "        \n",
              "  <svg xmlns=\"http://www.w3.org/2000/svg\" height=\"24px\"viewBox=\"0 0 24 24\"\n",
              "       width=\"24px\">\n",
              "    <path d=\"M0 0h24v24H0V0z\" fill=\"none\"/>\n",
              "    <path d=\"M18.56 5.44l.94 2.06.94-2.06 2.06-.94-2.06-.94-.94-2.06-.94 2.06-2.06.94zm-11 1L8.5 8.5l.94-2.06 2.06-.94-2.06-.94L8.5 2.5l-.94 2.06-2.06.94zm10 10l.94 2.06.94-2.06 2.06-.94-2.06-.94-.94-2.06-.94 2.06-2.06.94z\"/><path d=\"M17.41 7.96l-1.37-1.37c-.4-.4-.92-.59-1.43-.59-.52 0-1.04.2-1.43.59L10.3 9.45l-7.72 7.72c-.78.78-.78 2.05 0 2.83L4 21.41c.39.39.9.59 1.41.59.51 0 1.02-.2 1.41-.59l7.78-7.78 2.81-2.81c.8-.78.8-2.07 0-2.86zM5.41 20L4 18.59l7.72-7.72 1.47 1.35L5.41 20z\"/>\n",
              "  </svg>\n",
              "      </button>\n",
              "      \n",
              "  <style>\n",
              "    .colab-df-container {\n",
              "      display:flex;\n",
              "      flex-wrap:wrap;\n",
              "      gap: 12px;\n",
              "    }\n",
              "\n",
              "    .colab-df-convert {\n",
              "      background-color: #E8F0FE;\n",
              "      border: none;\n",
              "      border-radius: 50%;\n",
              "      cursor: pointer;\n",
              "      display: none;\n",
              "      fill: #1967D2;\n",
              "      height: 32px;\n",
              "      padding: 0 0 0 0;\n",
              "      width: 32px;\n",
              "    }\n",
              "\n",
              "    .colab-df-convert:hover {\n",
              "      background-color: #E2EBFA;\n",
              "      box-shadow: 0px 1px 2px rgba(60, 64, 67, 0.3), 0px 1px 3px 1px rgba(60, 64, 67, 0.15);\n",
              "      fill: #174EA6;\n",
              "    }\n",
              "\n",
              "    [theme=dark] .colab-df-convert {\n",
              "      background-color: #3B4455;\n",
              "      fill: #D2E3FC;\n",
              "    }\n",
              "\n",
              "    [theme=dark] .colab-df-convert:hover {\n",
              "      background-color: #434B5C;\n",
              "      box-shadow: 0px 1px 3px 1px rgba(0, 0, 0, 0.15);\n",
              "      filter: drop-shadow(0px 1px 2px rgba(0, 0, 0, 0.3));\n",
              "      fill: #FFFFFF;\n",
              "    }\n",
              "  </style>\n",
              "\n",
              "      <script>\n",
              "        const buttonEl =\n",
              "          document.querySelector('#df-0b393c7c-3308-4754-97d4-8a598314a10e button.colab-df-convert');\n",
              "        buttonEl.style.display =\n",
              "          google.colab.kernel.accessAllowed ? 'block' : 'none';\n",
              "\n",
              "        async function convertToInteractive(key) {\n",
              "          const element = document.querySelector('#df-0b393c7c-3308-4754-97d4-8a598314a10e');\n",
              "          const dataTable =\n",
              "            await google.colab.kernel.invokeFunction('convertToInteractive',\n",
              "                                                     [key], {});\n",
              "          if (!dataTable) return;\n",
              "\n",
              "          const docLinkHtml = 'Like what you see? Visit the ' +\n",
              "            '<a target=\"_blank\" href=https://colab.research.google.com/notebooks/data_table.ipynb>data table notebook</a>'\n",
              "            + ' to learn more about interactive tables.';\n",
              "          element.innerHTML = '';\n",
              "          dataTable['output_type'] = 'display_data';\n",
              "          await google.colab.output.renderOutput(dataTable, element);\n",
              "          const docLink = document.createElement('div');\n",
              "          docLink.innerHTML = docLinkHtml;\n",
              "          element.appendChild(docLink);\n",
              "        }\n",
              "      </script>\n",
              "    </div>\n",
              "  </div>\n",
              "  "
            ]
          },
          "metadata": {},
          "execution_count": 43
        }
      ]
    },
    {
      "cell_type": "markdown",
      "source": [
        "##### One-Hot Encoding"
      ],
      "metadata": {
        "id": "DxvlwS6yO-HQ"
      }
    },
    {
      "cell_type": "code",
      "source": [
        "# Criação de variáveis dummy sobre a variável 'region':\n",
        "\n",
        "df_insurance_cost = pd.concat([df_insurance_cost, pd.get_dummies(df_insurance_cost['region'], drop_first=True)], \n",
        "              axis = 1).drop('region', axis = 1)"
      ],
      "metadata": {
        "id": "7UF_tmhHPBKn"
      },
      "execution_count": 44,
      "outputs": []
    },
    {
      "cell_type": "code",
      "source": [
        "# Aplicação de mudança de tipo de dado das variáveis dummy criadas:\n",
        "\n",
        "df_insurance_cost[['northwest', 'southeast', 'southwest']] = df_insurance_cost[['northwest', 'southeast', 'southwest']].astype('int')"
      ],
      "metadata": {
        "id": "rOWz2tWRPFNM"
      },
      "execution_count": 45,
      "outputs": []
    },
    {
      "cell_type": "code",
      "source": [
        "# Verificação de tal mudança de tipo de dado das variáveis dummy criadas:\n",
        "\n",
        "df_insurance_cost[['northwest', 'southeast', 'southwest']].dtypes"
      ],
      "metadata": {
        "colab": {
          "base_uri": "https://localhost:8080/"
        },
        "id": "Ob0gS870PUAC",
        "outputId": "49d81136-f666-49ca-ceeb-f3578cc23344"
      },
      "execution_count": 46,
      "outputs": [
        {
          "output_type": "execute_result",
          "data": {
            "text/plain": [
              "northwest    int64\n",
              "southeast    int64\n",
              "southwest    int64\n",
              "dtype: object"
            ]
          },
          "metadata": {},
          "execution_count": 46
        }
      ]
    },
    {
      "cell_type": "markdown",
      "source": [
        "#### Dados de Treino & Dados de Teste"
      ],
      "metadata": {
        "id": "hSz4lPx_Pu39"
      }
    },
    {
      "cell_type": "markdown",
      "source": [
        "##### Variáveis Preditoras & Variável-target"
      ],
      "metadata": {
        "id": "IkC7-M-4Amrx"
      }
    },
    {
      "cell_type": "code",
      "source": [
        "# Variáveis-preditoras:\n",
        "\n",
        "X = df_insurance_cost.drop('charges', axis = 1)"
      ],
      "metadata": {
        "id": "tw1QyUD1Aqip"
      },
      "execution_count": 47,
      "outputs": []
    },
    {
      "cell_type": "code",
      "source": [
        "# Visualização das variáveis preditoras:\n",
        "\n",
        "X.head()"
      ],
      "metadata": {
        "colab": {
          "base_uri": "https://localhost:8080/",
          "height": 206
        },
        "id": "bg3i0aAOLMEd",
        "outputId": "0c5b6bd8-0472-40aa-f394-88969d6a7728"
      },
      "execution_count": 48,
      "outputs": [
        {
          "output_type": "execute_result",
          "data": {
            "text/plain": [
              "   age  sex     bmi  children  smoker  northwest  southeast  southwest\n",
              "0   19    0  27.900         0       1          0          0          1\n",
              "1   18    1  33.770         1       0          0          1          0\n",
              "2   28    1  33.000         3       0          0          1          0\n",
              "3   33    1  22.705         0       0          1          0          0\n",
              "4   32    1  28.880         0       0          1          0          0"
            ],
            "text/html": [
              "\n",
              "  <div id=\"df-02976cab-966f-47f5-98b4-2bca7e074ebb\">\n",
              "    <div class=\"colab-df-container\">\n",
              "      <div>\n",
              "<style scoped>\n",
              "    .dataframe tbody tr th:only-of-type {\n",
              "        vertical-align: middle;\n",
              "    }\n",
              "\n",
              "    .dataframe tbody tr th {\n",
              "        vertical-align: top;\n",
              "    }\n",
              "\n",
              "    .dataframe thead th {\n",
              "        text-align: right;\n",
              "    }\n",
              "</style>\n",
              "<table border=\"1\" class=\"dataframe\">\n",
              "  <thead>\n",
              "    <tr style=\"text-align: right;\">\n",
              "      <th></th>\n",
              "      <th>age</th>\n",
              "      <th>sex</th>\n",
              "      <th>bmi</th>\n",
              "      <th>children</th>\n",
              "      <th>smoker</th>\n",
              "      <th>northwest</th>\n",
              "      <th>southeast</th>\n",
              "      <th>southwest</th>\n",
              "    </tr>\n",
              "  </thead>\n",
              "  <tbody>\n",
              "    <tr>\n",
              "      <th>0</th>\n",
              "      <td>19</td>\n",
              "      <td>0</td>\n",
              "      <td>27.900</td>\n",
              "      <td>0</td>\n",
              "      <td>1</td>\n",
              "      <td>0</td>\n",
              "      <td>0</td>\n",
              "      <td>1</td>\n",
              "    </tr>\n",
              "    <tr>\n",
              "      <th>1</th>\n",
              "      <td>18</td>\n",
              "      <td>1</td>\n",
              "      <td>33.770</td>\n",
              "      <td>1</td>\n",
              "      <td>0</td>\n",
              "      <td>0</td>\n",
              "      <td>1</td>\n",
              "      <td>0</td>\n",
              "    </tr>\n",
              "    <tr>\n",
              "      <th>2</th>\n",
              "      <td>28</td>\n",
              "      <td>1</td>\n",
              "      <td>33.000</td>\n",
              "      <td>3</td>\n",
              "      <td>0</td>\n",
              "      <td>0</td>\n",
              "      <td>1</td>\n",
              "      <td>0</td>\n",
              "    </tr>\n",
              "    <tr>\n",
              "      <th>3</th>\n",
              "      <td>33</td>\n",
              "      <td>1</td>\n",
              "      <td>22.705</td>\n",
              "      <td>0</td>\n",
              "      <td>0</td>\n",
              "      <td>1</td>\n",
              "      <td>0</td>\n",
              "      <td>0</td>\n",
              "    </tr>\n",
              "    <tr>\n",
              "      <th>4</th>\n",
              "      <td>32</td>\n",
              "      <td>1</td>\n",
              "      <td>28.880</td>\n",
              "      <td>0</td>\n",
              "      <td>0</td>\n",
              "      <td>1</td>\n",
              "      <td>0</td>\n",
              "      <td>0</td>\n",
              "    </tr>\n",
              "  </tbody>\n",
              "</table>\n",
              "</div>\n",
              "      <button class=\"colab-df-convert\" onclick=\"convertToInteractive('df-02976cab-966f-47f5-98b4-2bca7e074ebb')\"\n",
              "              title=\"Convert this dataframe to an interactive table.\"\n",
              "              style=\"display:none;\">\n",
              "        \n",
              "  <svg xmlns=\"http://www.w3.org/2000/svg\" height=\"24px\"viewBox=\"0 0 24 24\"\n",
              "       width=\"24px\">\n",
              "    <path d=\"M0 0h24v24H0V0z\" fill=\"none\"/>\n",
              "    <path d=\"M18.56 5.44l.94 2.06.94-2.06 2.06-.94-2.06-.94-.94-2.06-.94 2.06-2.06.94zm-11 1L8.5 8.5l.94-2.06 2.06-.94-2.06-.94L8.5 2.5l-.94 2.06-2.06.94zm10 10l.94 2.06.94-2.06 2.06-.94-2.06-.94-.94-2.06-.94 2.06-2.06.94z\"/><path d=\"M17.41 7.96l-1.37-1.37c-.4-.4-.92-.59-1.43-.59-.52 0-1.04.2-1.43.59L10.3 9.45l-7.72 7.72c-.78.78-.78 2.05 0 2.83L4 21.41c.39.39.9.59 1.41.59.51 0 1.02-.2 1.41-.59l7.78-7.78 2.81-2.81c.8-.78.8-2.07 0-2.86zM5.41 20L4 18.59l7.72-7.72 1.47 1.35L5.41 20z\"/>\n",
              "  </svg>\n",
              "      </button>\n",
              "      \n",
              "  <style>\n",
              "    .colab-df-container {\n",
              "      display:flex;\n",
              "      flex-wrap:wrap;\n",
              "      gap: 12px;\n",
              "    }\n",
              "\n",
              "    .colab-df-convert {\n",
              "      background-color: #E8F0FE;\n",
              "      border: none;\n",
              "      border-radius: 50%;\n",
              "      cursor: pointer;\n",
              "      display: none;\n",
              "      fill: #1967D2;\n",
              "      height: 32px;\n",
              "      padding: 0 0 0 0;\n",
              "      width: 32px;\n",
              "    }\n",
              "\n",
              "    .colab-df-convert:hover {\n",
              "      background-color: #E2EBFA;\n",
              "      box-shadow: 0px 1px 2px rgba(60, 64, 67, 0.3), 0px 1px 3px 1px rgba(60, 64, 67, 0.15);\n",
              "      fill: #174EA6;\n",
              "    }\n",
              "\n",
              "    [theme=dark] .colab-df-convert {\n",
              "      background-color: #3B4455;\n",
              "      fill: #D2E3FC;\n",
              "    }\n",
              "\n",
              "    [theme=dark] .colab-df-convert:hover {\n",
              "      background-color: #434B5C;\n",
              "      box-shadow: 0px 1px 3px 1px rgba(0, 0, 0, 0.15);\n",
              "      filter: drop-shadow(0px 1px 2px rgba(0, 0, 0, 0.3));\n",
              "      fill: #FFFFFF;\n",
              "    }\n",
              "  </style>\n",
              "\n",
              "      <script>\n",
              "        const buttonEl =\n",
              "          document.querySelector('#df-02976cab-966f-47f5-98b4-2bca7e074ebb button.colab-df-convert');\n",
              "        buttonEl.style.display =\n",
              "          google.colab.kernel.accessAllowed ? 'block' : 'none';\n",
              "\n",
              "        async function convertToInteractive(key) {\n",
              "          const element = document.querySelector('#df-02976cab-966f-47f5-98b4-2bca7e074ebb');\n",
              "          const dataTable =\n",
              "            await google.colab.kernel.invokeFunction('convertToInteractive',\n",
              "                                                     [key], {});\n",
              "          if (!dataTable) return;\n",
              "\n",
              "          const docLinkHtml = 'Like what you see? Visit the ' +\n",
              "            '<a target=\"_blank\" href=https://colab.research.google.com/notebooks/data_table.ipynb>data table notebook</a>'\n",
              "            + ' to learn more about interactive tables.';\n",
              "          element.innerHTML = '';\n",
              "          dataTable['output_type'] = 'display_data';\n",
              "          await google.colab.output.renderOutput(dataTable, element);\n",
              "          const docLink = document.createElement('div');\n",
              "          docLink.innerHTML = docLinkHtml;\n",
              "          element.appendChild(docLink);\n",
              "        }\n",
              "      </script>\n",
              "    </div>\n",
              "  </div>\n",
              "  "
            ]
          },
          "metadata": {},
          "execution_count": 48
        }
      ]
    },
    {
      "cell_type": "code",
      "source": [
        "# Variável-target:\n",
        "\n",
        "y = df_insurance_cost.charges.values"
      ],
      "metadata": {
        "id": "bVt87KwzUaxu"
      },
      "execution_count": 49,
      "outputs": []
    },
    {
      "cell_type": "code",
      "source": [
        "# Visualização da variável-target:\n",
        "\n",
        "y[:5]"
      ],
      "metadata": {
        "colab": {
          "base_uri": "https://localhost:8080/"
        },
        "id": "6wnigoyJAuJw",
        "outputId": "1803467b-ffec-4b51-c587-13cb432d784c"
      },
      "execution_count": 50,
      "outputs": [
        {
          "output_type": "execute_result",
          "data": {
            "text/plain": [
              "array([16884.924  ,  1725.5523 ,  4449.462  , 21984.47061,  3866.8552 ])"
            ]
          },
          "metadata": {},
          "execution_count": 50
        }
      ]
    },
    {
      "cell_type": "code",
      "source": [
        "# Divisão do conjunto de dados em dados de treino e dados de teste:\n",
        "\n",
        "X_train, X_test, y_train, y_test = train_test_split(X, y, \n",
        "                                                    test_size = 0.2, random_state = 32)"
      ],
      "metadata": {
        "id": "Zodvax6TPzFI"
      },
      "execution_count": 51,
      "outputs": []
    },
    {
      "cell_type": "markdown",
      "source": [
        "#### Transformação Log "
      ],
      "metadata": {
        "id": "KFH8m24sUixe"
      }
    },
    {
      "cell_type": "code",
      "source": [
        "# Importação de método para aplicar transformação logarítmica na variável-alvo:\n",
        "\n",
        "from sklearn.preprocessing import FunctionTransformer"
      ],
      "metadata": {
        "id": "6pzT7Yf1UlTW"
      },
      "execution_count": 52,
      "outputs": []
    },
    {
      "cell_type": "code",
      "source": [
        "# Atribuição de tal método transformacional para uma variável:\n",
        "\n",
        "transformer = FunctionTransformer(np.log1p)"
      ],
      "metadata": {
        "id": "0Fkx7sT1UnJe"
      },
      "execution_count": 53,
      "outputs": []
    },
    {
      "cell_type": "code",
      "source": [
        "# Transformação logarítmica da variável-alvo nos dados de treino:\n",
        "\n",
        "y_train_log = transformer.fit_transform(y_train)"
      ],
      "metadata": {
        "id": "r-6ymJBVUo2o"
      },
      "execution_count": 54,
      "outputs": []
    },
    {
      "cell_type": "code",
      "source": [
        "# Transformação logarítmica da variável-alvo nos dados de teste:\n",
        "\n",
        "y_test_log = transformer.transform(y_test)"
      ],
      "metadata": {
        "id": "v4coMI-qVIXi"
      },
      "execution_count": 55,
      "outputs": []
    },
    {
      "cell_type": "markdown",
      "source": [
        "#### Treinamento & Avaliação de Modelo"
      ],
      "metadata": {
        "id": "KkAZqNidQE9I"
      }
    },
    {
      "cell_type": "markdown",
      "source": [
        "##### Regressão Linear"
      ],
      "metadata": {
        "id": "A1LWjrA2QHyB"
      }
    },
    {
      "cell_type": "code",
      "source": [
        "# Regressão linear atribuída à uma variável:\n",
        "\n",
        "lin_reg = LinearRegression()"
      ],
      "metadata": {
        "id": "rSl_4POIQNv-"
      },
      "execution_count": 56,
      "outputs": []
    },
    {
      "cell_type": "code",
      "source": [
        "# Treino da regressão linear sobre dados de treino:\n",
        "\n",
        "lin_reg.fit(X_train, y_train_log)"
      ],
      "metadata": {
        "colab": {
          "base_uri": "https://localhost:8080/",
          "height": 75
        },
        "id": "Xh9-FGyZQTl8",
        "outputId": "a2a8e831-5d46-4c8f-c6b9-7b0876926bfa"
      },
      "execution_count": 57,
      "outputs": [
        {
          "output_type": "execute_result",
          "data": {
            "text/plain": [
              "LinearRegression()"
            ],
            "text/html": [
              "<style>#sk-container-id-1 {color: black;background-color: white;}#sk-container-id-1 pre{padding: 0;}#sk-container-id-1 div.sk-toggleable {background-color: white;}#sk-container-id-1 label.sk-toggleable__label {cursor: pointer;display: block;width: 100%;margin-bottom: 0;padding: 0.3em;box-sizing: border-box;text-align: center;}#sk-container-id-1 label.sk-toggleable__label-arrow:before {content: \"▸\";float: left;margin-right: 0.25em;color: #696969;}#sk-container-id-1 label.sk-toggleable__label-arrow:hover:before {color: black;}#sk-container-id-1 div.sk-estimator:hover label.sk-toggleable__label-arrow:before {color: black;}#sk-container-id-1 div.sk-toggleable__content {max-height: 0;max-width: 0;overflow: hidden;text-align: left;background-color: #f0f8ff;}#sk-container-id-1 div.sk-toggleable__content pre {margin: 0.2em;color: black;border-radius: 0.25em;background-color: #f0f8ff;}#sk-container-id-1 input.sk-toggleable__control:checked~div.sk-toggleable__content {max-height: 200px;max-width: 100%;overflow: auto;}#sk-container-id-1 input.sk-toggleable__control:checked~label.sk-toggleable__label-arrow:before {content: \"▾\";}#sk-container-id-1 div.sk-estimator input.sk-toggleable__control:checked~label.sk-toggleable__label {background-color: #d4ebff;}#sk-container-id-1 div.sk-label input.sk-toggleable__control:checked~label.sk-toggleable__label {background-color: #d4ebff;}#sk-container-id-1 input.sk-hidden--visually {border: 0;clip: rect(1px 1px 1px 1px);clip: rect(1px, 1px, 1px, 1px);height: 1px;margin: -1px;overflow: hidden;padding: 0;position: absolute;width: 1px;}#sk-container-id-1 div.sk-estimator {font-family: monospace;background-color: #f0f8ff;border: 1px dotted black;border-radius: 0.25em;box-sizing: border-box;margin-bottom: 0.5em;}#sk-container-id-1 div.sk-estimator:hover {background-color: #d4ebff;}#sk-container-id-1 div.sk-parallel-item::after {content: \"\";width: 100%;border-bottom: 1px solid gray;flex-grow: 1;}#sk-container-id-1 div.sk-label:hover label.sk-toggleable__label {background-color: #d4ebff;}#sk-container-id-1 div.sk-serial::before {content: \"\";position: absolute;border-left: 1px solid gray;box-sizing: border-box;top: 0;bottom: 0;left: 50%;z-index: 0;}#sk-container-id-1 div.sk-serial {display: flex;flex-direction: column;align-items: center;background-color: white;padding-right: 0.2em;padding-left: 0.2em;position: relative;}#sk-container-id-1 div.sk-item {position: relative;z-index: 1;}#sk-container-id-1 div.sk-parallel {display: flex;align-items: stretch;justify-content: center;background-color: white;position: relative;}#sk-container-id-1 div.sk-item::before, #sk-container-id-1 div.sk-parallel-item::before {content: \"\";position: absolute;border-left: 1px solid gray;box-sizing: border-box;top: 0;bottom: 0;left: 50%;z-index: -1;}#sk-container-id-1 div.sk-parallel-item {display: flex;flex-direction: column;z-index: 1;position: relative;background-color: white;}#sk-container-id-1 div.sk-parallel-item:first-child::after {align-self: flex-end;width: 50%;}#sk-container-id-1 div.sk-parallel-item:last-child::after {align-self: flex-start;width: 50%;}#sk-container-id-1 div.sk-parallel-item:only-child::after {width: 0;}#sk-container-id-1 div.sk-dashed-wrapped {border: 1px dashed gray;margin: 0 0.4em 0.5em 0.4em;box-sizing: border-box;padding-bottom: 0.4em;background-color: white;}#sk-container-id-1 div.sk-label label {font-family: monospace;font-weight: bold;display: inline-block;line-height: 1.2em;}#sk-container-id-1 div.sk-label-container {text-align: center;}#sk-container-id-1 div.sk-container {/* jupyter's `normalize.less` sets `[hidden] { display: none; }` but bootstrap.min.css set `[hidden] { display: none !important; }` so we also need the `!important` here to be able to override the default hidden behavior on the sphinx rendered scikit-learn.org. See: https://github.com/scikit-learn/scikit-learn/issues/21755 */display: inline-block !important;position: relative;}#sk-container-id-1 div.sk-text-repr-fallback {display: none;}</style><div id=\"sk-container-id-1\" class=\"sk-top-container\"><div class=\"sk-text-repr-fallback\"><pre>LinearRegression()</pre><b>In a Jupyter environment, please rerun this cell to show the HTML representation or trust the notebook. <br />On GitHub, the HTML representation is unable to render, please try loading this page with nbviewer.org.</b></div><div class=\"sk-container\" hidden><div class=\"sk-item\"><div class=\"sk-estimator sk-toggleable\"><input class=\"sk-toggleable__control sk-hidden--visually\" id=\"sk-estimator-id-1\" type=\"checkbox\" checked><label for=\"sk-estimator-id-1\" class=\"sk-toggleable__label sk-toggleable__label-arrow\">LinearRegression</label><div class=\"sk-toggleable__content\"><pre>LinearRegression()</pre></div></div></div></div></div>"
            ]
          },
          "metadata": {},
          "execution_count": 57
        }
      ]
    },
    {
      "cell_type": "code",
      "source": [
        "# Predição de dados com o modelo treinado sobre os dados de teste:\n",
        "\n",
        "y_pred = lin_reg.predict(X_test)"
      ],
      "metadata": {
        "id": "noSOHxdAQVtG"
      },
      "execution_count": 58,
      "outputs": []
    },
    {
      "cell_type": "code",
      "source": [
        "# Reversão da transformação logarítmica da variável-alvo:\n",
        "\n",
        "y_pred_original_scale = np.exp(y_pred)"
      ],
      "metadata": {
        "id": "xuQ53l0OR855"
      },
      "execution_count": 59,
      "outputs": []
    },
    {
      "cell_type": "code",
      "source": [
        "# R-Score do modelo treinado:\n",
        "\n",
        "r2_score = metrics.r2_score(y_pred_original_scale, np.exp(y_test_log))"
      ],
      "metadata": {
        "id": "-UAXiRRlQYkP"
      },
      "execution_count": 60,
      "outputs": []
    },
    {
      "cell_type": "code",
      "source": [
        "# R-Score da regressão linear treinada:\n",
        "\n",
        "r2_score"
      ],
      "metadata": {
        "colab": {
          "base_uri": "https://localhost:8080/"
        },
        "id": "Ei0fcKryQjsY",
        "outputId": "f87f9349-8253-4998-ddb9-afa231e4ccf6"
      },
      "execution_count": 61,
      "outputs": [
        {
          "output_type": "execute_result",
          "data": {
            "text/plain": [
              "0.6862424349878844"
            ]
          },
          "metadata": {},
          "execution_count": 61
        }
      ]
    },
    {
      "cell_type": "code",
      "source": [
        "# Média de acurácia preditiva do modelo de regressão linear:\n",
        "\n",
        "cross_val_score(lin_reg, X_test, y_test_log).mean()"
      ],
      "metadata": {
        "colab": {
          "base_uri": "https://localhost:8080/"
        },
        "id": "xlWYCwnuBxdG",
        "outputId": "f35d7161-014f-4177-ea9a-78664c08eb0b"
      },
      "execution_count": 62,
      "outputs": [
        {
          "output_type": "execute_result",
          "data": {
            "text/plain": [
              "0.7719433032418914"
            ]
          },
          "metadata": {},
          "execution_count": 62
        }
      ]
    },
    {
      "cell_type": "code",
      "source": [
        "# Erro mediano absoluto da regressão linear:\n",
        "\n",
        "med_ae = metrics.median_absolute_error(np.exp(y_test_log), y_pred_original_scale)"
      ],
      "metadata": {
        "id": "dguRV0llDfwO"
      },
      "execution_count": 63,
      "outputs": []
    },
    {
      "cell_type": "code",
      "source": [
        "# Erro mediano absoluto:\n",
        "\n",
        "print(f'Erro Mediano Absoluto: {med_ae}')"
      ],
      "metadata": {
        "colab": {
          "base_uri": "https://localhost:8080/"
        },
        "id": "NKAOLNbUEM1N",
        "outputId": "475f7294-a807-45bd-8dd9-b4aa76b0b75d"
      },
      "execution_count": 64,
      "outputs": [
        {
          "output_type": "stream",
          "name": "stdout",
          "text": [
            "Erro Mediano Absoluto: 1024.2095915267057\n"
          ]
        }
      ]
    },
    {
      "cell_type": "code",
      "source": [
        "# Visualização comparativa dos dados previsto em relação aos dados reais:\n",
        "\n",
        "np.set_printoptions(precision=4, suppress=True)\n",
        "\n",
        "np.concatenate((y_pred_original_scale.reshape(-1,1), np.exp(y_test_log).reshape(-1,1)), axis=1)"
      ],
      "metadata": {
        "colab": {
          "base_uri": "https://localhost:8080/"
        },
        "id": "2FD_JYa4Hog4",
        "outputId": "3d6501e6-b427-43ce-9ea8-7222ecfe6517"
      },
      "execution_count": 97,
      "outputs": [
        {
          "output_type": "execute_result",
          "data": {
            "text/plain": [
              "array([[ 8320.2355,  9488.6442],\n",
              "       [16091.6691, 18224.4512],\n",
              "       [ 5249.1519,  5268.8182],\n",
              "       [11843.3531, 11521.0998],\n",
              "       [ 8613.8393, 10578.087 ],\n",
              "       [ 3236.8792, 11273.3314],\n",
              "       [50935.6187, 45703.0224],\n",
              "       [ 4095.3701,  3559.6203],\n",
              "       [ 4992.0062,  5416.6612],\n",
              "       [10143.8276,  9584.8933],\n",
              "       [ 4008.9385,  3214.6221],\n",
              "       [ 3291.5205, 18956.2202],\n",
              "       [12895.071 , 12929.7911],\n",
              "       [36935.6316, 45864.205 ],\n",
              "       [ 9608.7637,  8084.9198],\n",
              "       [40973.1879, 42970.8527],\n",
              "       [13339.6309, 20710.0203],\n",
              "       [10136.5046, 11083.5772],\n",
              "       [ 8125.4004,  7805.1605],\n",
              "       [ 7611.7325,  8540.671 ],\n",
              "       [ 7276.4568,  6747.7425],\n",
              "       [11645.5542, 13205.2856],\n",
              "       [12778.7329, 12649.7034],\n",
              "       [ 4855.4598,  4238.1266],\n",
              "       [49472.1322, 43255.4179],\n",
              "       [ 2933.2016,  2151.469 ],\n",
              "       [ 8295.191 ,  7750.1564],\n",
              "       [14052.6317, 17086.2676],\n",
              "       [ 9845.4889,  9631.397 ],\n",
              "       [30025.3603, 21473.4788],\n",
              "       [ 2618.7599,  1136.9407],\n",
              "       [ 8131.9464,  7987.4752],\n",
              "       [ 3214.9481,  2204.4718],\n",
              "       [11486.9763, 13416.0381],\n",
              "       [ 7660.9337,  8281.6227],\n",
              "       [42007.9193, 39598.4072],\n",
              "       [ 7234.7822,  6797.8633],\n",
              "       [ 5376.7648,  3694.428 ],\n",
              "       [15040.4387, 14475.675 ],\n",
              "       [13467.8551, 12266.5069],\n",
              "       [ 5318.9948,  5313.1698],\n",
              "       [ 2676.8741,  1633.5644],\n",
              "       [10171.2223,  9716.841 ],\n",
              "       [ 3174.4443,  2021.5523],\n",
              "       [ 4083.8083,  2900.4893],\n",
              "       [ 8329.0916,  8583.3023],\n",
              "       [ 5797.0247,  4763.329 ],\n",
              "       [ 4930.5173,  4338.7352],\n",
              "       [11606.6418, 10798.3362],\n",
              "       [18704.5397, 36022.0112],\n",
              "       [18654.2448, 17943.106 ],\n",
              "       [53460.2381, 43579.9394],\n",
              "       [ 4238.4285,  4033.2407],\n",
              "       [ 3945.1755,  3172.6149],\n",
              "       [16602.5932, 13431.265 ],\n",
              "       [13812.9468, 17469.9839],\n",
              "       [ 3050.2688,  2155.361 ],\n",
              "       [ 5049.4819,  4467.6214],\n",
              "       [11526.3368, 12045.342 ],\n",
              "       [15319.9823, 14120.62  ],\n",
              "       [34216.3164, 39126.3323],\n",
              "       [ 4761.5725,  3858.7592],\n",
              "       [ 2987.4797,  1881.07  ],\n",
              "       [ 2321.6805,  1242.565 ],\n",
              "       [11409.0095, 11841.775 ],\n",
              "       [13804.7368, 14452.8351],\n",
              "       [11095.6184, 10826.2537],\n",
              "       [29823.6778, 20297.8634],\n",
              "       [29043.3063, 19445.2658],\n",
              "       [ 2998.1544,  1150.3959],\n",
              "       [12307.9757, 11946.1327],\n",
              "       [ 6913.437 ,  5990.5237],\n",
              "       [ 7905.2448,  7513.267 ],\n",
              "       [ 3766.2391,  3047.062 ],\n",
              "       [ 3705.7512,  2218.6012],\n",
              "       [14607.6377, 13020.1611],\n",
              "       [23795.1067, 20010.6336],\n",
              "       [10495.4582, 35161.1346],\n",
              "       [17074.355 , 18311.742 ],\n",
              "       [16538.7424, 15020.7601],\n",
              "       [ 6743.2539,  6859.4796],\n",
              "       [ 4232.0784,  3293.5298],\n",
              "       [ 3575.0409, 12610.887 ],\n",
              "       [ 8032.0284,  8126.7845],\n",
              "       [ 2822.4303, 11483.6348],\n",
              "       [ 6358.3704,  6314.759 ],\n",
              "       [10082.673 , 10227.2842],\n",
              "       [11405.7618, 11091.7178],\n",
              "       [ 7892.513 ,  8689.8588],\n",
              "       [11986.9686, 13113.6048],\n",
              "       [13464.1956, 11567.3005],\n",
              "       [ 2721.0448,  1705.5681],\n",
              "       [ 5946.0304,  5398.6167],\n",
              "       [ 3536.2475,  2405.7338],\n",
              "       [12913.9184, 33472.9719],\n",
              "       [ 9696.8106, 10966.446 ],\n",
              "       [ 7110.5599,  7326.0482],\n",
              "       [ 4812.1973,  4528.1829],\n",
              "       [10801.1249, 11151.78  ],\n",
              "       [ 3879.6053, 18219.1614],\n",
              "       [ 5550.6019,  5032.2695],\n",
              "       [19577.7923, 36838.467 ],\n",
              "       [28720.1256, 40933.4295],\n",
              "       [ 3367.1073,  2363.2291],\n",
              "       [14818.922 , 11412.685 ],\n",
              "       [ 4957.5643,  4436.0942],\n",
              "       [ 5581.1239,  6251.435 ],\n",
              "       [ 7841.3148,  7161.094 ],\n",
              "       [11354.1415, 10601.5483],\n",
              "       [ 3222.3697,  2598.779 ],\n",
              "       [ 2887.3246,  1264.249 ],\n",
              "       [12301.8402, 26126.6748],\n",
              "       [27630.602 , 37830.7242],\n",
              "       [10294.863 , 10808.4863],\n",
              "       [ 3191.8108,  1981.07  ],\n",
              "       [11379.1097, 12334.828 ],\n",
              "       [10132.1431, 10073.0551],\n",
              "       [ 2736.2526,  1720.4363],\n",
              "       [59027.1946, 47056.5321],\n",
              "       [23376.1091, 40905.1995],\n",
              "       [19943.6962, 37466.3437],\n",
              "       [ 7996.6072, 28341.1888],\n",
              "       [11174.1833, 10270.46  ],\n",
              "       [ 5214.5515,  5694.4305],\n",
              "       [10975.5213, 10714.644 ],\n",
              "       [ 4728.4583, 18964.1719],\n",
              "       [14921.0583, 12496.2909],\n",
              "       [55182.9553, 27038.9141],\n",
              "       [54850.555 , 45009.9555],\n",
              "       [ 8155.7235, 28477.735 ],\n",
              "       [14685.08  , 17044.3414],\n",
              "       [ 8922.0924,  8969.33  ],\n",
              "       [ 2937.7346,  1770.5317],\n",
              "       [ 6996.2495,  7519.0253],\n",
              "       [ 4859.4432,  4720.524 ],\n",
              "       [ 5658.5735,  5709.867 ],\n",
              "       [11725.1775, 12095.478 ],\n",
              "       [ 3269.0395,  2220.4451],\n",
              "       [ 6435.7339,  5935.3798],\n",
              "       [ 2835.3359,  1262.442 ],\n",
              "       [ 3407.8786,  2640.0429],\n",
              "       [11860.8462, 12245.531 ],\n",
              "       [ 4524.7339,  3491.5491],\n",
              "       [65581.2261, 45711.2079],\n",
              "       [ 5028.3294,  4434.3877],\n",
              "       [10008.3543, 10705.47  ],\n",
              "       [ 9082.5742,  9870.8102],\n",
              "       [15048.4653, 14044.4767],\n",
              "       [13024.0229, 15519.1802],\n",
              "       [ 3343.5189, 22494.6596],\n",
              "       [14910.4616, 35586.576 ],\n",
              "       [ 4188.4391,  3580.8287],\n",
              "       [38613.9315, 21660.9301],\n",
              "       [ 4891.3155,  4619.0799],\n",
              "       [ 3077.3502,  1647.4297],\n",
              "       [ 4575.0392,  3269.8466],\n",
              "       [ 3700.834 ,  2218.4692],\n",
              "       [13333.4313, 12431.9534],\n",
              "       [11660.4038, 11744.9341],\n",
              "       [ 7308.8121,  7244.8136],\n",
              "       [ 4795.3459,  4719.2036],\n",
              "       [13168.7596, 11880.1041],\n",
              "       [34261.0553, 21196.818 ],\n",
              "       [ 3888.4577,  3393.9768],\n",
              "       [53967.8311, 43814.8661],\n",
              "       [ 6113.5535,  7148.105 ],\n",
              "       [ 8189.838 ,  8704.456 ],\n",
              "       [ 2956.1465,  2222.5644],\n",
              "       [ 3359.4914,  1918.3184],\n",
              "       [10915.5221,  9881.068 ],\n",
              "       [ 4098.7347,  3173.018 ],\n",
              "       [20037.2448, 16086.1275],\n",
              "       [ 7581.6605,  7145.8626],\n",
              "       [ 4299.79  ,  3592.48  ],\n",
              "       [14787.0713, 11539.421 ],\n",
              "       [32588.5534, 40104.89  ],\n",
              "       [ 7520.5425,  6374.5574],\n",
              "       [ 6005.2633,  6186.3208],\n",
              "       [ 3454.3136,  2167.732 ],\n",
              "       [ 4670.0276,  4244.59  ],\n",
              "       [ 9003.8711, 10108.2206],\n",
              "       [ 5977.7552,  6199.7518],\n",
              "       [ 9279.6507, 10215.636 ],\n",
              "       [ 4721.1884,  4138.5227],\n",
              "       [11124.6293, 10983.5013],\n",
              "       [ 4719.5513,  4572.4131],\n",
              "       [18905.7352, 15613.1933],\n",
              "       [ 8209.6421,  9856.1314],\n",
              "       [ 9151.0534, 14479.3301],\n",
              "       [ 7589.4359,  7153.6714],\n",
              "       [ 4579.6223,  4351.5144],\n",
              "       [11562.9963, 13013.2086],\n",
              "       [15073.5195, 33476.8171],\n",
              "       [11565.5191, 10924.9332],\n",
              "       [ 4101.1198, 19674.3357],\n",
              "       [ 2872.0418,  1640.5631],\n",
              "       [10291.4677,  9878.6077],\n",
              "       [ 2514.3877,  1712.0268],\n",
              "       [16784.9327, 15162.5344],\n",
              "       [ 7070.3535,  5847.9176],\n",
              "       [ 8744.6253,  8824.279 ],\n",
              "       [11922.1269,  9542.6956],\n",
              "       [13996.9637, 14395.5579],\n",
              "       [ 4383.1694, 17627.2395],\n",
              "       [ 7402.0075,  5758.4134],\n",
              "       [ 9118.4409, 10960.33  ],\n",
              "       [15411.8017, 13636.6379],\n",
              "       [10132.1055, 10943.1321],\n",
              "       [53927.8102, 27809.7251],\n",
              "       [ 8078.6235,  8535.6718],\n",
              "       [20300.0878, 17664.1442],\n",
              "       [11512.7741, 11849.141 ],\n",
              "       [ 2816.6233,  1709.0014],\n",
              "       [ 5494.0733,  5479.0368],\n",
              "       [ 5929.8975,  4754.6368],\n",
              "       [ 3223.497 ,  2204.736 ],\n",
              "       [57730.5311, 48674.5588],\n",
              "       [13015.1367, 14255.6082],\n",
              "       [ 5715.0425,  5254.524 ],\n",
              "       [38627.1415, 46114.511 ],\n",
              "       [ 7041.6336,  6407.4107],\n",
              "       [ 9053.6745,  8528.532 ],\n",
              "       [ 2893.5788,  2008.945 ],\n",
              "       [ 8117.0881,  7732.8579],\n",
              "       [12036.5601, 16298.846 ],\n",
              "       [43200.1985, 41098.1617],\n",
              "       [ 9539.0991,  8965.0606],\n",
              "       [ 5677.658 ,  5970.723 ],\n",
              "       [ 2662.6943,  1633.0363],\n",
              "       [14727.0371, 38793.6856],\n",
              "       [ 8054.6404,  8303.5356],\n",
              "       [13815.1492, 16451.8947],\n",
              "       [14388.1693, 14002.1338],\n",
              "       [ 7076.2401,  7625.63  ],\n",
              "       [ 8491.921 ,  7640.4174],\n",
              "       [ 9153.6382,  8335.5896],\n",
              "       [ 3172.5421,  7324.7348],\n",
              "       [27281.2665, 39872.7043],\n",
              "       [ 6737.23  ,  6838.3687],\n",
              "       [ 6174.2617,  6390.3778],\n",
              "       [ 8294.8661,  6611.1097],\n",
              "       [ 4609.1904,  3936.1799],\n",
              "       [38515.0285, 39557.4945],\n",
              "       [ 4281.3784,  3762.292 ],\n",
              "       [14191.7254, 13832.1152],\n",
              "       [ 4338.3734,  4134.6417],\n",
              "       [15042.6021, 14693.6694],\n",
              "       [ 7683.6683,  8278.523 ],\n",
              "       [32299.4874, 39837.519 ],\n",
              "       [ 7791.1774, 18807.1455],\n",
              "       [ 7910.0777,  8828.2099],\n",
              "       [32079.0467, 35070.3745],\n",
              "       [ 3555.2962,  2323.6218],\n",
              "       [ 2947.7448,  1876.344 ],\n",
              "       [15566.7332, 34167.273 ],\n",
              "       [10495.8581, 12958.118 ],\n",
              "       [ 9839.1453,  9911.3598],\n",
              "       [36344.9622, 21678.2834],\n",
              "       [27383.4097, 20150.3229],\n",
              "       [27883.904 , 20774.6278],\n",
              "       [17932.8032, 14902.5167],\n",
              "       [13619.9113, 10737.8707],\n",
              "       [ 6810.9295,  6556.0704],\n",
              "       [13547.9493, 12270.6886],\n",
              "       [ 2736.9467,  1965.78  ],\n",
              "       [22399.3585, 42113.2356],\n",
              "       [ 8153.079 ,  7419.522 ],\n",
              "       [ 9331.0349, 11014.7119]])"
            ]
          },
          "metadata": {},
          "execution_count": 97
        }
      ]
    },
    {
      "cell_type": "markdown",
      "source": [
        "##### Floresta Aleatória"
      ],
      "metadata": {
        "id": "e4Tert6HQ5sA"
      }
    },
    {
      "cell_type": "code",
      "source": [
        "# Floresta aleatória atribuída à uma variável:\n",
        "\n",
        "random_forest = RandomForestRegressor(n_estimators = 175)"
      ],
      "metadata": {
        "id": "VpbsNvVpQ9zt"
      },
      "execution_count": 67,
      "outputs": []
    },
    {
      "cell_type": "code",
      "source": [
        "# Treino da Floresta aleatória sobre dados de treino:\n",
        "\n",
        "random_forest.fit(X_train, y_train_log)"
      ],
      "metadata": {
        "colab": {
          "base_uri": "https://localhost:8080/",
          "height": 75
        },
        "id": "rpIl1TXeRBQ5",
        "outputId": "623734cc-6251-4408-c6b9-7360222c8d25"
      },
      "execution_count": 68,
      "outputs": [
        {
          "output_type": "execute_result",
          "data": {
            "text/plain": [
              "RandomForestRegressor(n_estimators=175)"
            ],
            "text/html": [
              "<style>#sk-container-id-2 {color: black;background-color: white;}#sk-container-id-2 pre{padding: 0;}#sk-container-id-2 div.sk-toggleable {background-color: white;}#sk-container-id-2 label.sk-toggleable__label {cursor: pointer;display: block;width: 100%;margin-bottom: 0;padding: 0.3em;box-sizing: border-box;text-align: center;}#sk-container-id-2 label.sk-toggleable__label-arrow:before {content: \"▸\";float: left;margin-right: 0.25em;color: #696969;}#sk-container-id-2 label.sk-toggleable__label-arrow:hover:before {color: black;}#sk-container-id-2 div.sk-estimator:hover label.sk-toggleable__label-arrow:before {color: black;}#sk-container-id-2 div.sk-toggleable__content {max-height: 0;max-width: 0;overflow: hidden;text-align: left;background-color: #f0f8ff;}#sk-container-id-2 div.sk-toggleable__content pre {margin: 0.2em;color: black;border-radius: 0.25em;background-color: #f0f8ff;}#sk-container-id-2 input.sk-toggleable__control:checked~div.sk-toggleable__content {max-height: 200px;max-width: 100%;overflow: auto;}#sk-container-id-2 input.sk-toggleable__control:checked~label.sk-toggleable__label-arrow:before {content: \"▾\";}#sk-container-id-2 div.sk-estimator input.sk-toggleable__control:checked~label.sk-toggleable__label {background-color: #d4ebff;}#sk-container-id-2 div.sk-label input.sk-toggleable__control:checked~label.sk-toggleable__label {background-color: #d4ebff;}#sk-container-id-2 input.sk-hidden--visually {border: 0;clip: rect(1px 1px 1px 1px);clip: rect(1px, 1px, 1px, 1px);height: 1px;margin: -1px;overflow: hidden;padding: 0;position: absolute;width: 1px;}#sk-container-id-2 div.sk-estimator {font-family: monospace;background-color: #f0f8ff;border: 1px dotted black;border-radius: 0.25em;box-sizing: border-box;margin-bottom: 0.5em;}#sk-container-id-2 div.sk-estimator:hover {background-color: #d4ebff;}#sk-container-id-2 div.sk-parallel-item::after {content: \"\";width: 100%;border-bottom: 1px solid gray;flex-grow: 1;}#sk-container-id-2 div.sk-label:hover label.sk-toggleable__label {background-color: #d4ebff;}#sk-container-id-2 div.sk-serial::before {content: \"\";position: absolute;border-left: 1px solid gray;box-sizing: border-box;top: 0;bottom: 0;left: 50%;z-index: 0;}#sk-container-id-2 div.sk-serial {display: flex;flex-direction: column;align-items: center;background-color: white;padding-right: 0.2em;padding-left: 0.2em;position: relative;}#sk-container-id-2 div.sk-item {position: relative;z-index: 1;}#sk-container-id-2 div.sk-parallel {display: flex;align-items: stretch;justify-content: center;background-color: white;position: relative;}#sk-container-id-2 div.sk-item::before, #sk-container-id-2 div.sk-parallel-item::before {content: \"\";position: absolute;border-left: 1px solid gray;box-sizing: border-box;top: 0;bottom: 0;left: 50%;z-index: -1;}#sk-container-id-2 div.sk-parallel-item {display: flex;flex-direction: column;z-index: 1;position: relative;background-color: white;}#sk-container-id-2 div.sk-parallel-item:first-child::after {align-self: flex-end;width: 50%;}#sk-container-id-2 div.sk-parallel-item:last-child::after {align-self: flex-start;width: 50%;}#sk-container-id-2 div.sk-parallel-item:only-child::after {width: 0;}#sk-container-id-2 div.sk-dashed-wrapped {border: 1px dashed gray;margin: 0 0.4em 0.5em 0.4em;box-sizing: border-box;padding-bottom: 0.4em;background-color: white;}#sk-container-id-2 div.sk-label label {font-family: monospace;font-weight: bold;display: inline-block;line-height: 1.2em;}#sk-container-id-2 div.sk-label-container {text-align: center;}#sk-container-id-2 div.sk-container {/* jupyter's `normalize.less` sets `[hidden] { display: none; }` but bootstrap.min.css set `[hidden] { display: none !important; }` so we also need the `!important` here to be able to override the default hidden behavior on the sphinx rendered scikit-learn.org. See: https://github.com/scikit-learn/scikit-learn/issues/21755 */display: inline-block !important;position: relative;}#sk-container-id-2 div.sk-text-repr-fallback {display: none;}</style><div id=\"sk-container-id-2\" class=\"sk-top-container\"><div class=\"sk-text-repr-fallback\"><pre>RandomForestRegressor(n_estimators=175)</pre><b>In a Jupyter environment, please rerun this cell to show the HTML representation or trust the notebook. <br />On GitHub, the HTML representation is unable to render, please try loading this page with nbviewer.org.</b></div><div class=\"sk-container\" hidden><div class=\"sk-item\"><div class=\"sk-estimator sk-toggleable\"><input class=\"sk-toggleable__control sk-hidden--visually\" id=\"sk-estimator-id-2\" type=\"checkbox\" checked><label for=\"sk-estimator-id-2\" class=\"sk-toggleable__label sk-toggleable__label-arrow\">RandomForestRegressor</label><div class=\"sk-toggleable__content\"><pre>RandomForestRegressor(n_estimators=175)</pre></div></div></div></div></div>"
            ]
          },
          "metadata": {},
          "execution_count": 68
        }
      ]
    },
    {
      "cell_type": "code",
      "source": [
        "# Predição de dados com o modelo treinado sobre os dados de teste:\n",
        "\n",
        "y_pred_02 = random_forest.predict(X_test)"
      ],
      "metadata": {
        "id": "d4XsuZuGREcO"
      },
      "execution_count": 69,
      "outputs": []
    },
    {
      "cell_type": "code",
      "source": [
        "# Reversão da transformação logarítmica da variável-alvo:\n",
        "\n",
        "y_pred_original_scale_02 = np.exp(y_pred_02)"
      ],
      "metadata": {
        "id": "SRsTWdiSXPgd"
      },
      "execution_count": 70,
      "outputs": []
    },
    {
      "cell_type": "code",
      "source": [
        "# R-Score do modelo treinado:\n",
        "\n",
        "\n",
        "r2_score = metrics.r2_score(np.exp(y_test_log), y_pred_original_scale_02)"
      ],
      "metadata": {
        "id": "Po2fD7VHRbii"
      },
      "execution_count": 71,
      "outputs": []
    },
    {
      "cell_type": "code",
      "source": [
        "# R-Score da Floresta aleatória treinada:\n",
        "\n",
        "r2_score"
      ],
      "metadata": {
        "colab": {
          "base_uri": "https://localhost:8080/"
        },
        "id": "ZkS7PwC2Reyg",
        "outputId": "3f839dfd-8878-4848-a9d5-ffc26d9dd904"
      },
      "execution_count": 72,
      "outputs": [
        {
          "output_type": "execute_result",
          "data": {
            "text/plain": [
              "0.8499961040944193"
            ]
          },
          "metadata": {},
          "execution_count": 72
        }
      ]
    },
    {
      "cell_type": "code",
      "source": [
        "# Média de acurácia preditiva do modelo de Floresta aleatória:\n",
        "\n",
        "cross_val_score(random_forest, X_test, y_test_log).mean()"
      ],
      "metadata": {
        "colab": {
          "base_uri": "https://localhost:8080/"
        },
        "id": "Irn89uA7B5u1",
        "outputId": "68190d17-ad32-4a0a-aaf6-8314102873fe"
      },
      "execution_count": 73,
      "outputs": [
        {
          "output_type": "execute_result",
          "data": {
            "text/plain": [
              "0.7981110206672973"
            ]
          },
          "metadata": {},
          "execution_count": 73
        }
      ]
    },
    {
      "cell_type": "code",
      "source": [
        "# Erro mediano absoluto da Floresta aleatória:\n",
        "\n",
        "med_ae = metrics.median_absolute_error(np.exp(y_test_log), y_pred_original_scale_02)"
      ],
      "metadata": {
        "id": "w5kFYLk2EiE3"
      },
      "execution_count": 74,
      "outputs": []
    },
    {
      "cell_type": "code",
      "source": [
        "# Erro mediano absoluto:\n",
        "\n",
        "print(f'Erro Mediano Absoluto: {med_ae}')"
      ],
      "metadata": {
        "colab": {
          "base_uri": "https://localhost:8080/"
        },
        "id": "1t_TRcHBElMg",
        "outputId": "6ef17c33-4044-411c-f44d-795ec861a748"
      },
      "execution_count": 75,
      "outputs": [
        {
          "output_type": "stream",
          "name": "stdout",
          "text": [
            "Erro Mediano Absoluto: 669.8262790355543\n"
          ]
        }
      ]
    },
    {
      "cell_type": "code",
      "source": [
        "# Visualização comparativa dos dados previsto em relação aos dados reais:\n",
        "\n",
        "np.concatenate((y_pred_original_scale_02.reshape(-1,1), np.exp(y_test_log).reshape(-1,1)), axis=1)"
      ],
      "metadata": {
        "colab": {
          "base_uri": "https://localhost:8080/"
        },
        "id": "HxXfsXo2IKvb",
        "outputId": "875803ac-acb6-46bc-e503-8ecbec3f110d"
      },
      "execution_count": 76,
      "outputs": [
        {
          "output_type": "execute_result",
          "data": {
            "text/plain": [
              "array([[17750.9614,  9488.6442],\n",
              "       [17008.5246, 18224.4512],\n",
              "       [ 5408.8725,  5268.8182],\n",
              "       [18085.8423, 11521.0998],\n",
              "       [11040.5306, 10578.087 ],\n",
              "       [ 1883.1366, 11273.3314],\n",
              "       [44168.6427, 45703.0224],\n",
              "       [ 3420.4386,  3559.6203],\n",
              "       [ 5940.0978,  5416.6612],\n",
              "       [11049.6429,  9584.8933],\n",
              "       [ 3140.5726,  3214.6221],\n",
              "       [ 3199.5454, 18956.2202],\n",
              "       [14753.7585, 12929.7911],\n",
              "       [47369.077 , 45864.205 ],\n",
              "       [ 8930.0548,  8084.9198],\n",
              "       [43247.5192, 42970.8527],\n",
              "       [11458.686 , 20710.0203],\n",
              "       [11342.2654, 11083.5772],\n",
              "       [ 9797.4161,  7805.1605],\n",
              "       [14994.4324,  8540.671 ],\n",
              "       [ 6758.2183,  6747.7425],\n",
              "       [13525.269 , 13205.2856],\n",
              "       [13977.0091, 12649.7034],\n",
              "       [ 4218.9617,  4238.1266],\n",
              "       [46688.0956, 43255.4179],\n",
              "       [ 2300.1855,  2151.469 ],\n",
              "       [ 7586.8279,  7750.1564],\n",
              "       [16874.5616, 17086.2676],\n",
              "       [13390.5853,  9631.397 ],\n",
              "       [20726.6578, 21473.4788],\n",
              "       [ 1381.5528,  1136.9407],\n",
              "       [ 7966.8154,  7987.4752],\n",
              "       [11047.017 ,  2204.4718],\n",
              "       [16076.9848, 13416.0381],\n",
              "       [ 8891.4123,  8281.6227],\n",
              "       [40139.6531, 39598.4072],\n",
              "       [ 7050.659 ,  6797.8633],\n",
              "       [ 4263.1344,  3694.428 ],\n",
              "       [27158.7948, 14475.675 ],\n",
              "       [14152.1715, 12266.5069],\n",
              "       [ 7235.8532,  5313.1698],\n",
              "       [ 1646.3787,  1633.5644],\n",
              "       [10833.59  ,  9716.841 ],\n",
              "       [ 1914.3068,  2021.5523],\n",
              "       [ 4974.0019,  2900.4893],\n",
              "       [ 9560.4719,  8583.3023],\n",
              "       [ 6081.7284,  4763.329 ],\n",
              "       [ 8074.4183,  4338.7352],\n",
              "       [14496.5974, 10798.3362],\n",
              "       [35732.154 , 36022.0112],\n",
              "       [16899.5245, 17943.106 ],\n",
              "       [46449.012 , 43579.9394],\n",
              "       [ 5365.2855,  4033.2407],\n",
              "       [ 3441.2461,  3172.6149],\n",
              "       [15368.1026, 13431.265 ],\n",
              "       [17785.9583, 17469.9839],\n",
              "       [ 2261.9285,  2155.361 ],\n",
              "       [ 9729.3451,  4467.6214],\n",
              "       [11939.311 , 12045.342 ],\n",
              "       [16418.4779, 14120.62  ],\n",
              "       [39379.9697, 39126.3323],\n",
              "       [ 3760.4172,  3858.7592],\n",
              "       [ 2283.9744,  1881.07  ],\n",
              "       [ 1261.1578,  1242.565 ],\n",
              "       [12105.489 , 11841.775 ],\n",
              "       [14052.3895, 14452.8351],\n",
              "       [11806.8106, 10826.2537],\n",
              "       [19300.6444, 20297.8634],\n",
              "       [18729.5913, 19445.2658],\n",
              "       [ 1282.3508,  1150.3959],\n",
              "       [11689.9307, 11946.1327],\n",
              "       [ 6931.5831,  5990.5237],\n",
              "       [11530.6331,  7513.267 ],\n",
              "       [ 3023.7167,  3047.062 ],\n",
              "       [ 2534.9166,  2218.6012],\n",
              "       [12496.5416, 13020.1611],\n",
              "       [20368.2918, 20010.6336],\n",
              "       [11495.7835, 35161.1346],\n",
              "       [23390.2443, 18311.742 ],\n",
              "       [16062.1859, 15020.7601],\n",
              "       [ 6746.7002,  6859.4796],\n",
              "       [ 3493.7799,  3293.5298],\n",
              "       [ 2862.4441, 12610.887 ],\n",
              "       [ 8890.1352,  8126.7845],\n",
              "       [ 1663.4015, 11483.6348],\n",
              "       [ 6953.4134,  6314.759 ],\n",
              "       [13985.8535, 10227.2842],\n",
              "       [11859.4313, 11091.7178],\n",
              "       [ 9115.3617,  8689.8588],\n",
              "       [16308.5864, 13113.6048],\n",
              "       [11498.8284, 11567.3005],\n",
              "       [ 1698.102 ,  1705.5681],\n",
              "       [ 6298.0801,  5398.6167],\n",
              "       [ 2190.2308,  2405.7338],\n",
              "       [15509.4652, 33472.9719],\n",
              "       [11449.7236, 10966.446 ],\n",
              "       [ 8509.2958,  7326.0482],\n",
              "       [ 4778.4784,  4528.1829],\n",
              "       [11618.5742, 11151.78  ],\n",
              "       [ 3707.5425, 18219.1614],\n",
              "       [ 6099.0841,  5032.2695],\n",
              "       [39153.3116, 36838.467 ],\n",
              "       [44329.0533, 40933.4295],\n",
              "       [ 4130.4235,  2363.2291],\n",
              "       [11434.7928, 11412.685 ],\n",
              "       [ 5546.4569,  4436.0942],\n",
              "       [ 8080.0661,  6251.435 ],\n",
              "       [ 7333.5304,  7161.094 ],\n",
              "       [13611.4167, 10601.5483],\n",
              "       [ 2745.5181,  2598.779 ],\n",
              "       [ 2165.5707,  1264.249 ],\n",
              "       [16282.9412, 26126.6748],\n",
              "       [22580.3083, 37830.7242],\n",
              "       [14955.0699, 10808.4863],\n",
              "       [ 4911.465 ,  1981.07  ],\n",
              "       [13554.0793, 12334.828 ],\n",
              "       [12201.6723, 10073.0551],\n",
              "       [ 1757.7169,  1720.4363],\n",
              "       [47255.3238, 47056.5321],\n",
              "       [41082.6262, 40905.1995],\n",
              "       [38065.1526, 37466.3437],\n",
              "       [ 8211.7573, 28341.1888],\n",
              "       [10770.5607, 10270.46  ],\n",
              "       [ 5703.4874,  5694.4305],\n",
              "       [15614.2958, 10714.644 ],\n",
              "       [ 3808.3867, 18964.1719],\n",
              "       [16172.1596, 12496.2909],\n",
              "       [26579.7714, 27038.9141],\n",
              "       [48246.6925, 45009.9555],\n",
              "       [ 6621.5085, 28477.735 ],\n",
              "       [17498.6251, 17044.3414],\n",
              "       [10376.4205,  8969.33  ],\n",
              "       [ 2014.2604,  1770.5317],\n",
              "       [ 7430.2304,  7519.0253],\n",
              "       [ 6138.7056,  4720.524 ],\n",
              "       [ 7291.568 ,  5709.867 ],\n",
              "       [12243.3355, 12095.478 ],\n",
              "       [ 3333.3779,  2220.4451],\n",
              "       [ 6118.2915,  5935.3798],\n",
              "       [ 1950.5043,  1262.442 ],\n",
              "       [ 2519.5857,  2640.0429],\n",
              "       [14812.3364, 12245.531 ],\n",
              "       [ 3389.5043,  3491.5491],\n",
              "       [48129.2112, 45711.2079],\n",
              "       [ 5106.444 ,  4434.3877],\n",
              "       [11659.0926, 10705.47  ],\n",
              "       [11678.3885,  9870.8102],\n",
              "       [13624.4774, 14044.4767],\n",
              "       [16539.6527, 15519.1802],\n",
              "       [ 6281.636 , 22494.6596],\n",
              "       [38223.0218, 35586.576 ],\n",
              "       [14895.7618,  3580.8287],\n",
              "       [20993.3338, 21660.9301],\n",
              "       [ 9633.3924,  4619.0799],\n",
              "       [ 2196.8044,  1647.4297],\n",
              "       [ 2875.0769,  3269.8466],\n",
              "       [ 2534.9166,  2218.4692],\n",
              "       [12320.8341, 12431.9534],\n",
              "       [11705.4873, 11744.9341],\n",
              "       [ 8055.9488,  7244.8136],\n",
              "       [ 6065.9385,  4719.2036],\n",
              "       [11872.3578, 11880.1041],\n",
              "       [22142.9437, 21196.818 ],\n",
              "       [ 3443.2248,  3393.9768],\n",
              "       [44264.4976, 43814.8661],\n",
              "       [11987.496 ,  7148.105 ],\n",
              "       [11974.0379,  8704.456 ],\n",
              "       [ 2026.1611,  2222.5644],\n",
              "       [ 1968.3028,  1918.3184],\n",
              "       [10080.4933,  9881.068 ],\n",
              "       [ 3445.9983,  3173.018 ],\n",
              "       [15823.9887, 16086.1275],\n",
              "       [ 6720.261 ,  7145.8626],\n",
              "       [ 4534.018 ,  3592.48  ],\n",
              "       [11808.6588, 11539.421 ],\n",
              "       [40482.6663, 40104.89  ],\n",
              "       [ 6230.1727,  6374.5574],\n",
              "       [ 6202.4794,  6186.3208],\n",
              "       [ 2181.2607,  2167.732 ],\n",
              "       [ 4410.4228,  4244.59  ],\n",
              "       [12857.7355, 10108.2206],\n",
              "       [ 6685.0774,  6199.7518],\n",
              "       [11716.1647, 10215.636 ],\n",
              "       [ 3736.9948,  4138.5227],\n",
              "       [11472.1038, 10983.5013],\n",
              "       [ 6717.1211,  4572.4131],\n",
              "       [18554.823 , 15613.1933],\n",
              "       [10210.8866,  9856.1314],\n",
              "       [ 9216.3011, 14479.3301],\n",
              "       [ 7868.5888,  7153.6714],\n",
              "       [ 4449.6656,  4351.5144],\n",
              "       [16160.8549, 13013.2086],\n",
              "       [33854.9671, 33476.8171],\n",
              "       [11190.0358, 10924.9332],\n",
              "       [ 2901.9186, 19674.3357],\n",
              "       [ 1780.4853,  1640.5631],\n",
              "       [ 9675.687 ,  9878.6077],\n",
              "       [ 1773.3627,  1712.0268],\n",
              "       [21041.1534, 15162.5344],\n",
              "       [ 7777.6121,  5847.9176],\n",
              "       [10178.6887,  8824.279 ],\n",
              "       [10589.411 ,  9542.6956],\n",
              "       [14223.59  , 14395.5579],\n",
              "       [ 5173.3154, 17627.2395],\n",
              "       [ 6040.0062,  5758.4134],\n",
              "       [11524.2601, 10960.33  ],\n",
              "       [13280.1579, 13636.6379],\n",
              "       [12433.2878, 10943.1321],\n",
              "       [28868.6777, 27809.7251],\n",
              "       [15401.7507,  8535.6718],\n",
              "       [16938.2464, 17664.1442],\n",
              "       [11830.5332, 11849.141 ],\n",
              "       [ 1712.2495,  1709.0014],\n",
              "       [ 5136.7289,  5479.0368],\n",
              "       [ 4623.5441,  4754.6368],\n",
              "       [ 6884.3299,  2204.736 ],\n",
              "       [48646.8794, 48674.5588],\n",
              "       [19370.193 , 14255.6082],\n",
              "       [ 5343.0776,  5254.524 ],\n",
              "       [45651.9957, 46114.511 ],\n",
              "       [ 7152.7548,  6407.4107],\n",
              "       [10095.8291,  8528.532 ],\n",
              "       [ 2251.3953,  2008.945 ],\n",
              "       [ 8444.8281,  7732.8579],\n",
              "       [17135.7718, 16298.846 ],\n",
              "       [41554.9134, 41098.1617],\n",
              "       [ 9644.582 ,  8965.0606],\n",
              "       [ 6155.0193,  5970.723 ],\n",
              "       [ 1643.4571,  1633.0363],\n",
              "       [39096.1113, 38793.6856],\n",
              "       [ 9904.4881,  8303.5356],\n",
              "       [16718.2914, 16451.8947],\n",
              "       [14424.175 , 14002.1338],\n",
              "       [ 7850.9036,  7625.63  ],\n",
              "       [ 7156.6002,  7640.4174],\n",
              "       [ 8465.9451,  8335.5896],\n",
              "       [ 4742.6509,  7324.7348],\n",
              "       [40736.1951, 39872.7043],\n",
              "       [ 8204.7963,  6838.3687],\n",
              "       [ 6618.2753,  6390.3778],\n",
              "       [ 6394.9566,  6611.1097],\n",
              "       [ 4792.2272,  3936.1799],\n",
              "       [40237.4644, 39557.4945],\n",
              "       [ 3920.1949,  3762.292 ],\n",
              "       [14086.3625, 13832.1152],\n",
              "       [ 6855.1445,  4134.6417],\n",
              "       [14118.6096, 14693.6694],\n",
              "       [14606.4869,  8278.523 ],\n",
              "       [39635.4457, 39837.519 ],\n",
              "       [10187.3957, 18807.1455],\n",
              "       [10332.1515,  8828.2099],\n",
              "       [20368.4392, 35070.3745],\n",
              "       [ 2520.0884,  2323.6218],\n",
              "       [ 2228.2297,  1876.344 ],\n",
              "       [34544.9308, 34167.273 ],\n",
              "       [13647.6066, 12958.118 ],\n",
              "       [10236.4219,  9911.3598],\n",
              "       [21293.5019, 21678.2834],\n",
              "       [20655.3428, 20150.3229],\n",
              "       [20351.7189, 20774.6278],\n",
              "       [14291.1359, 14902.5167],\n",
              "       [12841.2848, 10737.8707],\n",
              "       [ 6015.9662,  6556.0704],\n",
              "       [12727.753 , 12270.6886],\n",
              "       [ 2980.9127,  1965.78  ],\n",
              "       [40134.1008, 42113.2356],\n",
              "       [11557.7039,  7419.522 ],\n",
              "       [17779.2794, 11014.7119]])"
            ]
          },
          "metadata": {},
          "execution_count": 76
        }
      ]
    },
    {
      "cell_type": "markdown",
      "source": [
        "##### Árvore de decisão"
      ],
      "metadata": {
        "id": "J-vB_m6lRxL8"
      }
    },
    {
      "cell_type": "code",
      "source": [
        "#  Árvore de decisão atribuída à uma variável:\n",
        "\n",
        "decision_tree = DecisionTreeRegressor()"
      ],
      "metadata": {
        "id": "11fozBjNR0qd"
      },
      "execution_count": 77,
      "outputs": []
    },
    {
      "cell_type": "code",
      "source": [
        "# Árvore de decisão treinada com dados de treino:\n",
        "\n",
        "decision_tree.fit(X_train, y_train_log)"
      ],
      "metadata": {
        "colab": {
          "base_uri": "https://localhost:8080/",
          "height": 75
        },
        "id": "T_ZseCBiR9HP",
        "outputId": "767a616e-5f31-484a-dc5c-cfda5c875f20"
      },
      "execution_count": 78,
      "outputs": [
        {
          "output_type": "execute_result",
          "data": {
            "text/plain": [
              "DecisionTreeRegressor()"
            ],
            "text/html": [
              "<style>#sk-container-id-3 {color: black;background-color: white;}#sk-container-id-3 pre{padding: 0;}#sk-container-id-3 div.sk-toggleable {background-color: white;}#sk-container-id-3 label.sk-toggleable__label {cursor: pointer;display: block;width: 100%;margin-bottom: 0;padding: 0.3em;box-sizing: border-box;text-align: center;}#sk-container-id-3 label.sk-toggleable__label-arrow:before {content: \"▸\";float: left;margin-right: 0.25em;color: #696969;}#sk-container-id-3 label.sk-toggleable__label-arrow:hover:before {color: black;}#sk-container-id-3 div.sk-estimator:hover label.sk-toggleable__label-arrow:before {color: black;}#sk-container-id-3 div.sk-toggleable__content {max-height: 0;max-width: 0;overflow: hidden;text-align: left;background-color: #f0f8ff;}#sk-container-id-3 div.sk-toggleable__content pre {margin: 0.2em;color: black;border-radius: 0.25em;background-color: #f0f8ff;}#sk-container-id-3 input.sk-toggleable__control:checked~div.sk-toggleable__content {max-height: 200px;max-width: 100%;overflow: auto;}#sk-container-id-3 input.sk-toggleable__control:checked~label.sk-toggleable__label-arrow:before {content: \"▾\";}#sk-container-id-3 div.sk-estimator input.sk-toggleable__control:checked~label.sk-toggleable__label {background-color: #d4ebff;}#sk-container-id-3 div.sk-label input.sk-toggleable__control:checked~label.sk-toggleable__label {background-color: #d4ebff;}#sk-container-id-3 input.sk-hidden--visually {border: 0;clip: rect(1px 1px 1px 1px);clip: rect(1px, 1px, 1px, 1px);height: 1px;margin: -1px;overflow: hidden;padding: 0;position: absolute;width: 1px;}#sk-container-id-3 div.sk-estimator {font-family: monospace;background-color: #f0f8ff;border: 1px dotted black;border-radius: 0.25em;box-sizing: border-box;margin-bottom: 0.5em;}#sk-container-id-3 div.sk-estimator:hover {background-color: #d4ebff;}#sk-container-id-3 div.sk-parallel-item::after {content: \"\";width: 100%;border-bottom: 1px solid gray;flex-grow: 1;}#sk-container-id-3 div.sk-label:hover label.sk-toggleable__label {background-color: #d4ebff;}#sk-container-id-3 div.sk-serial::before {content: \"\";position: absolute;border-left: 1px solid gray;box-sizing: border-box;top: 0;bottom: 0;left: 50%;z-index: 0;}#sk-container-id-3 div.sk-serial {display: flex;flex-direction: column;align-items: center;background-color: white;padding-right: 0.2em;padding-left: 0.2em;position: relative;}#sk-container-id-3 div.sk-item {position: relative;z-index: 1;}#sk-container-id-3 div.sk-parallel {display: flex;align-items: stretch;justify-content: center;background-color: white;position: relative;}#sk-container-id-3 div.sk-item::before, #sk-container-id-3 div.sk-parallel-item::before {content: \"\";position: absolute;border-left: 1px solid gray;box-sizing: border-box;top: 0;bottom: 0;left: 50%;z-index: -1;}#sk-container-id-3 div.sk-parallel-item {display: flex;flex-direction: column;z-index: 1;position: relative;background-color: white;}#sk-container-id-3 div.sk-parallel-item:first-child::after {align-self: flex-end;width: 50%;}#sk-container-id-3 div.sk-parallel-item:last-child::after {align-self: flex-start;width: 50%;}#sk-container-id-3 div.sk-parallel-item:only-child::after {width: 0;}#sk-container-id-3 div.sk-dashed-wrapped {border: 1px dashed gray;margin: 0 0.4em 0.5em 0.4em;box-sizing: border-box;padding-bottom: 0.4em;background-color: white;}#sk-container-id-3 div.sk-label label {font-family: monospace;font-weight: bold;display: inline-block;line-height: 1.2em;}#sk-container-id-3 div.sk-label-container {text-align: center;}#sk-container-id-3 div.sk-container {/* jupyter's `normalize.less` sets `[hidden] { display: none; }` but bootstrap.min.css set `[hidden] { display: none !important; }` so we also need the `!important` here to be able to override the default hidden behavior on the sphinx rendered scikit-learn.org. See: https://github.com/scikit-learn/scikit-learn/issues/21755 */display: inline-block !important;position: relative;}#sk-container-id-3 div.sk-text-repr-fallback {display: none;}</style><div id=\"sk-container-id-3\" class=\"sk-top-container\"><div class=\"sk-text-repr-fallback\"><pre>DecisionTreeRegressor()</pre><b>In a Jupyter environment, please rerun this cell to show the HTML representation or trust the notebook. <br />On GitHub, the HTML representation is unable to render, please try loading this page with nbviewer.org.</b></div><div class=\"sk-container\" hidden><div class=\"sk-item\"><div class=\"sk-estimator sk-toggleable\"><input class=\"sk-toggleable__control sk-hidden--visually\" id=\"sk-estimator-id-3\" type=\"checkbox\" checked><label for=\"sk-estimator-id-3\" class=\"sk-toggleable__label sk-toggleable__label-arrow\">DecisionTreeRegressor</label><div class=\"sk-toggleable__content\"><pre>DecisionTreeRegressor()</pre></div></div></div></div></div>"
            ]
          },
          "metadata": {},
          "execution_count": 78
        }
      ]
    },
    {
      "cell_type": "code",
      "source": [
        "# Predição de dados com o modelo treinado com os dados de teste:\n",
        "\n",
        "y_pred_03 = decision_tree.predict(X_test)"
      ],
      "metadata": {
        "id": "7YR5hjB_R_cW"
      },
      "execution_count": 79,
      "outputs": []
    },
    {
      "cell_type": "code",
      "source": [
        "# Reversão da transformação logarítmica da variável-alvo:\n",
        "\n",
        "y_pred_original_scale_03 = np.exp(y_pred_03)"
      ],
      "metadata": {
        "id": "Wu2jsY9mXvxM"
      },
      "execution_count": 80,
      "outputs": []
    },
    {
      "cell_type": "code",
      "source": [
        "# R-Score do modelo treinado:\n",
        "\n",
        "r2_score = metrics.r2_score(np.exp(y_test_log), y_pred_original_scale_03)"
      ],
      "metadata": {
        "id": "JjEeGyhkSCqK"
      },
      "execution_count": 81,
      "outputs": []
    },
    {
      "cell_type": "code",
      "source": [
        "# R-Score da Árvore de decisão:\n",
        "\n",
        "r2_score"
      ],
      "metadata": {
        "colab": {
          "base_uri": "https://localhost:8080/"
        },
        "id": "zdGtfH8wSFrO",
        "outputId": "15d0f415-4e19-40e8-ff8a-07ef7d548728"
      },
      "execution_count": 82,
      "outputs": [
        {
          "output_type": "execute_result",
          "data": {
            "text/plain": [
              "0.5896738058292789"
            ]
          },
          "metadata": {},
          "execution_count": 82
        }
      ]
    },
    {
      "cell_type": "code",
      "source": [
        "# Média da acurácia preditiva da árvore de decisão:\n",
        "\n",
        "cross_val_score(decision_tree, X_test, y_test_log).mean()"
      ],
      "metadata": {
        "colab": {
          "base_uri": "https://localhost:8080/"
        },
        "id": "95XzrSP9B_5Y",
        "outputId": "b6323b1b-0bca-4f28-d3c2-43e0745754c6"
      },
      "execution_count": 83,
      "outputs": [
        {
          "output_type": "execute_result",
          "data": {
            "text/plain": [
              "0.6547104240787265"
            ]
          },
          "metadata": {},
          "execution_count": 83
        }
      ]
    },
    {
      "cell_type": "code",
      "source": [
        "# Erro mediano absoluto da Árvore de decisão:\n",
        "\n",
        "med_ae = metrics.median_absolute_error(np.exp(y_test_log), y_pred_original_scale_03)"
      ],
      "metadata": {
        "id": "Whvq93H1Fhmj"
      },
      "execution_count": 84,
      "outputs": []
    },
    {
      "cell_type": "code",
      "source": [
        "# Erro mediano absoluto:\n",
        "\n",
        "print(f'Erro Mediano Absoluto: {med_ae}')"
      ],
      "metadata": {
        "colab": {
          "base_uri": "https://localhost:8080/"
        },
        "id": "nA9l27RHFlex",
        "outputId": "c6def06f-8948-4fe1-d893-8516e225224e"
      },
      "execution_count": 85,
      "outputs": [
        {
          "output_type": "stream",
          "name": "stdout",
          "text": [
            "Erro Mediano Absoluto: 578.4384000000018\n"
          ]
        }
      ]
    },
    {
      "cell_type": "code",
      "source": [
        "# Visualização comparativa dos dados previstos em relação aos dados reais:\n",
        "\n",
        "np.concatenate((y_pred_original_scale_03.reshape(-1,1), np.exp(y_test_log).reshape(-1,1)), axis=1)"
      ],
      "metadata": {
        "colab": {
          "base_uri": "https://localhost:8080/"
        },
        "id": "4G3NSNboIyNS",
        "outputId": "49648ed5-e7a4-4da3-e45e-7b54fbfe96b8"
      },
      "execution_count": 86,
      "outputs": [
        {
          "output_type": "execute_result",
          "data": {
            "text/plain": [
              "array([[27347.0421,  9488.6442],\n",
              "       [17749.5062, 18224.4512],\n",
              "       [ 5267.3656,  5268.8182],\n",
              "       [30285.6429, 11521.0998],\n",
              "       [11071.535 , 10578.087 ],\n",
              "       [ 1721.3537, 11273.3314],\n",
              "       [44203.6536, 45703.0224],\n",
              "       [ 2975.126 ,  3559.6203],\n",
              "       [ 5921.1041,  5416.6612],\n",
              "       [ 9867.3048,  9584.8933],\n",
              "       [ 3045.2133,  3214.6221],\n",
              "       [ 2633.992 , 18956.2202],\n",
              "       [12926.886 , 12929.7911],\n",
              "       [43897.3763, 45864.205 ],\n",
              "       [ 8570.8618,  8084.9198],\n",
              "       [41677.0811, 42970.8527],\n",
              "       [11366.952 , 20710.0203],\n",
              "       [10595.5016, 11083.5772],\n",
              "       [ 8284.6807,  7805.1605],\n",
              "       [10157.7832,  8540.671 ],\n",
              "       [ 6749.5912,  6747.7425],\n",
              "       [14450.8544, 13205.2856],\n",
              "       [12742.1675, 12649.7034],\n",
              "       [ 3660.346 ,  4238.1266],\n",
              "       [44261.7499, 43255.4179],\n",
              "       [ 2732.9122,  2151.469 ],\n",
              "       [ 8018.0612,  7750.1564],\n",
              "       [17749.5062, 17086.2676],\n",
              "       [10119.424 ,  9631.397 ],\n",
              "       [20746.9891, 21473.4788],\n",
              "       [ 1137.3994,  1136.9407],\n",
              "       [ 8253.2843,  7987.4752],\n",
              "       [21345.8467,  2204.4718],\n",
              "       [28924.1369, 13416.0381],\n",
              "       [ 7790.635 ,  8281.6227],\n",
              "       [40183.246 , 39598.4072],\n",
              "       [ 6458.8434,  6797.8633],\n",
              "       [ 5139.2567,  3694.428 ],\n",
              "       [36911.608 , 14475.675 ],\n",
              "       [20463.9977, 12266.5069],\n",
              "       [ 4720.7366,  5313.1698],\n",
              "       [ 1636.7336,  1633.5644],\n",
              "       [10494.9458,  9716.841 ],\n",
              "       [ 1878.9294,  2021.5523],\n",
              "       [ 2691.1138,  2900.4893],\n",
              "       [ 8966.7957,  8583.3023],\n",
              "       [ 5247.047 ,  4763.329 ],\n",
              "       [16797.4119,  4338.7352],\n",
              "       [23046.5662, 10798.3362],\n",
              "       [36190.1017, 36022.0112],\n",
              "       [16233.847 , 17943.106 ],\n",
              "       [47306.305 , 43579.9394],\n",
              "       [ 3660.346 ,  4033.2407],\n",
              "       [ 3557.9223,  3172.6149],\n",
              "       [29187.4824, 13431.265 ],\n",
              "       [17749.5062, 17469.9839],\n",
              "       [ 2156.6815,  2155.361 ],\n",
              "       [19443.3535,  4467.6214],\n",
              "       [11455.0215, 12045.342 ],\n",
              "       [12926.886 , 14120.62  ],\n",
              "       [37608.5277, 39126.3323],\n",
              "       [ 3646.0894,  3858.7592],\n",
              "       [ 1878.9294,  1881.07  ],\n",
              "       [ 1243.26  ,  1242.565 ],\n",
              "       [11843.6238, 11841.775 ],\n",
              "       [13617.3586, 14452.8351],\n",
              "       [10451.552 , 10826.2537],\n",
              "       [19041.876 , 20297.8634],\n",
              "       [17180.522 , 19445.2658],\n",
              "       [ 1147.7966,  1150.3959],\n",
              "       [11357.6609, 11946.1327],\n",
              "       [ 6185.2994,  5990.5237],\n",
              "       [15829.8217,  7513.267 ],\n",
              "       [ 3045.2133,  3047.062 ],\n",
              "       [ 2212.1307,  2218.6012],\n",
              "       [12232.6136, 13020.1611],\n",
              "       [20235.8548, 20010.6336],\n",
              "       [10797.3502, 35161.1346],\n",
              "       [20235.8548, 18311.742 ],\n",
              "       [16456.7079, 15020.7601],\n",
              "       [ 6665.686 ,  6859.4796],\n",
              "       [ 2905.088 ,  3293.5298],\n",
              "       [ 2790.0574, 12610.887 ],\n",
              "       [ 8125.4084,  8126.7845],\n",
              "       [ 1623.1885, 11483.6348],\n",
              "       [ 6312.952 ,  6314.759 ],\n",
              "       [11364.2832, 10227.2842],\n",
              "       [11094.6229, 11091.7178],\n",
              "       [ 9362.3268,  8689.8588],\n",
              "       [12914.9924, 13113.6048],\n",
              "       [11577.13  , 11567.3005],\n",
              "       [ 1705.7001,  1705.5681],\n",
              "       [ 5401.9805,  5398.6167],\n",
              "       [ 1985.4533,  2405.7338],\n",
              "       [26468.0974, 33472.9719],\n",
              "       [11535.8727, 10966.446 ],\n",
              "       [ 7420.4779,  7326.0482],\n",
              "       [ 4563.8421,  4528.1829],\n",
              "       [11742.726 , 11151.78  ],\n",
              "       [ 3228.1211, 18219.1614],\n",
              "       [20178.6711,  5032.2695],\n",
              "       [36951.2567, 36838.467 ],\n",
              "       [58572.0745, 40933.4295],\n",
              "       [27725.2888,  2363.2291],\n",
              "       [10326.206 , 11412.685 ],\n",
              "       [ 4429.8879,  4436.0942],\n",
              "       [ 7223.7862,  6251.435 ],\n",
              "       [ 7161.3303,  7161.094 ],\n",
              "       [11086.5868, 10601.5483],\n",
              "       [ 2586.269 ,  2598.779 ],\n",
              "       [ 1262.859 ,  1264.249 ],\n",
              "       [14712.7438, 26126.6748],\n",
              "       [22479.6   , 37830.7242],\n",
              "       [20782.4889, 10808.4863],\n",
              "       [27725.2888,  1981.07  ],\n",
              "       [12914.9924, 12334.828 ],\n",
              "       [23046.5662, 10073.0551],\n",
              "       [ 1721.3537,  1720.4363],\n",
              "       [46890.2612, 47056.5321],\n",
              "       [39612.7577, 40905.1995],\n",
              "       [36220.4054, 37466.3437],\n",
              "       [ 7728.2532, 28341.1888],\n",
              "       [ 9621.3307, 10270.46  ],\n",
              "       [ 4907.4096,  5694.4305],\n",
              "       [20631.2835, 10714.644 ],\n",
              "       [ 4152.0287, 18964.1719],\n",
              "       [12269.6322, 12496.2909],\n",
              "       [25679.7785, 27038.9141],\n",
              "       [47306.305 , 45009.9555],\n",
              "       [ 7651.7737, 28477.735 ],\n",
              "       [18247.4955, 17044.3414],\n",
              "       [10119.424 ,  8969.33  ],\n",
              "       [ 1640.5631,  1770.5317],\n",
              "       [ 6850.026 ,  7519.0253],\n",
              "       [ 4563.8421,  4720.524 ],\n",
              "       [24672.6633,  5709.867 ],\n",
              "       [12106.32  , 12095.478 ],\n",
              "       [ 2332.519 ,  2220.4451],\n",
              "       [ 5585.3057,  5935.3798],\n",
              "       [ 1262.859 ,  1262.442 ],\n",
              "       [ 2644.2685,  2640.0429],\n",
              "       [21798.0004, 12245.531 ],\n",
              "       [ 2905.088 ,  3491.5491],\n",
              "       [46719.1632, 45711.2079],\n",
              "       [ 4434.9159,  4434.3877],\n",
              "       [11287.5387, 10705.47  ],\n",
              "       [23046.5662,  9870.8102],\n",
              "       [13463.52  , 14044.4767],\n",
              "       [17179.6824, 15519.1802],\n",
              "       [ 2804.6978, 22494.6596],\n",
              "       [38512.6283, 35586.576 ],\n",
              "       [26019.9505,  3580.8287],\n",
              "       [19362.9988, 21660.9301],\n",
              "       [ 3538.703 ,  4619.0799],\n",
              "       [ 2135.9015,  1647.4297],\n",
              "       [ 2499.4144,  3269.8466],\n",
              "       [ 2212.1307,  2218.4692],\n",
              "       [12232.6136, 12431.9534],\n",
              "       [11736.8791, 11744.9341],\n",
              "       [19497.7192,  7244.8136],\n",
              "       [ 4563.8421,  4719.2036],\n",
              "       [11287.5387, 11880.1041],\n",
              "       [22219.1149, 21196.818 ],\n",
              "       [ 3393.3652,  3393.9768],\n",
              "       [43922.1837, 43814.8661],\n",
              "       [24604.0484,  7148.105 ],\n",
              "       [21233.1823,  8704.456 ],\n",
              "       [ 1838.237 ,  2222.5644],\n",
              "       [ 1985.4533,  1918.3184],\n",
              "       [ 9873.701 ,  9881.068 ],\n",
              "       [ 3557.9223,  3173.018 ],\n",
              "       [15556.1888, 16086.1275],\n",
              "       [ 6312.952 ,  7145.8626],\n",
              "       [ 3598.596 ,  3592.48  ],\n",
              "       [10326.206 , 11539.421 ],\n",
              "       [40274.6455, 40104.89  ],\n",
              "       [ 6080.6715,  6374.5574],\n",
              "       [ 5700.8375,  6186.3208],\n",
              "       [ 2021.177 ,  2167.732 ],\n",
              "       [ 4455.4026,  4244.59  ],\n",
              "       [ 9801.8882, 10108.2206],\n",
              "       [ 6456.8626,  6199.7518],\n",
              "       [11287.5387, 10215.636 ],\n",
              "       [ 3555.203 ,  4138.5227],\n",
              "       [11364.2832, 10983.5013],\n",
              "       [21985.4706,  4572.4131],\n",
              "       [16456.7079, 15613.1933],\n",
              "       [ 9801.8882,  9856.1314],\n",
              "       [ 9789.8659, 14479.3301],\n",
              "       [ 7148.4728,  7153.6714],\n",
              "       [ 4563.8421,  4351.5144],\n",
              "       [28924.1369, 13013.2086],\n",
              "       [33901.653 , 33476.8171],\n",
              "       [11513.405 , 10924.9332],\n",
              "       [ 2499.4144, 19674.3357],\n",
              "       [ 1640.5631,  1640.5631],\n",
              "       [ 9801.8882,  9878.6077],\n",
              "       [ 1721.3537,  1712.0268],\n",
              "       [27001.9847, 15162.5344],\n",
              "       [ 6436.6237,  5847.9176],\n",
              "       [ 8826.086 ,  8824.279 ],\n",
              "       [ 9876.6804,  9542.6956],\n",
              "       [13130.6035, 14395.5579],\n",
              "       [ 4563.8421, 17627.2395],\n",
              "       [ 5663.225 ,  5758.4134],\n",
              "       [11535.8727, 10960.33  ],\n",
              "       [13229.8469, 13636.6379],\n",
              "       [ 9864.4718, 10943.1321],\n",
              "       [28102.3331, 27809.7251],\n",
              "       [26237.58  ,  8535.6718],\n",
              "       [16421.4946, 17664.1442],\n",
              "       [11843.442 , 11849.141 ],\n",
              "       [ 1709.9258,  1709.0014],\n",
              "       [ 5473.449 ,  5479.0368],\n",
              "       [ 4950.7587,  4754.6368],\n",
              "       [21345.8467,  2204.736 ],\n",
              "       [48174.361 , 48674.5588],\n",
              "       [28924.1369, 14255.6082],\n",
              "       [ 6335.3436,  5254.524 ],\n",
              "       [40420.0191, 46114.511 ],\n",
              "       [ 6986.5069,  6407.4107],\n",
              "       [ 8348.1643,  8528.532 ],\n",
              "       [ 2156.6815,  2008.945 ],\n",
              "       [ 7349.142 ,  7732.8579],\n",
              "       [16885.924 , 16298.846 ],\n",
              "       [41920.097 , 41098.1617],\n",
              "       [ 9291.1395,  8965.0606],\n",
              "       [ 5911.944 ,  5970.723 ],\n",
              "       [ 1629.4709,  1633.0363],\n",
              "       [39612.7577, 38793.6856],\n",
              "       [32109.6628,  8303.5356],\n",
              "       [17353.6803, 16451.8947],\n",
              "       [14002.2867, 14002.1338],\n",
              "       [ 7624.518 ,  7625.63  ],\n",
              "       [ 6782.3542,  7640.4174],\n",
              "       [ 8335.4575,  8335.5896],\n",
              "       [21345.8467,  7324.7348],\n",
              "       [39775.2763, 39872.7043],\n",
              "       [ 7420.4779,  6838.3687],\n",
              "       [ 6665.686 ,  6390.3778],\n",
              "       [ 6601.206 ,  6611.1097],\n",
              "       [ 4519.8263,  3936.1799],\n",
              "       [39728.614 , 39557.4945],\n",
              "       [ 3973.9247,  3762.292 ],\n",
              "       [14411.9321, 13832.1152],\n",
              "       [ 3957.0714,  4134.6417],\n",
              "       [13823.803 , 14693.6694],\n",
              "       [21233.1823,  8278.523 ],\n",
              "       [40183.246 , 39837.519 ],\n",
              "       [ 7732.4271, 18807.1455],\n",
              "       [ 8445.474 ,  8828.2099],\n",
              "       [19516.5416, 35070.3745],\n",
              "       [ 2535.3938,  2323.6218],\n",
              "       [ 1745.465 ,  1876.344 ],\n",
              "       [34255.0534, 34167.273 ],\n",
              "       [13130.6035, 12958.118 ],\n",
              "       [ 9618.6625,  9911.3598],\n",
              "       [21224.6758, 21678.2834],\n",
              "       [22463.0437, 20150.3229],\n",
              "       [20235.8548, 20774.6278],\n",
              "       [14320.031 , 14902.5167],\n",
              "       [28469.919 , 10737.8707],\n",
              "       [ 6068.1267,  6556.0704],\n",
              "       [12269.6322, 12270.6886],\n",
              "       [27725.2888,  1965.78  ],\n",
              "       [39723.7462, 42113.2356],\n",
              "       [23564.0162,  7419.522 ],\n",
              "       [22193.4371, 11014.7119]])"
            ]
          },
          "metadata": {},
          "execution_count": 86
        }
      ]
    },
    {
      "cell_type": "markdown",
      "source": [
        "#### XGBoost Regressor"
      ],
      "metadata": {
        "id": "xJwdjP3MSJAa"
      }
    },
    {
      "cell_type": "code",
      "source": [
        "# XGBRegressor atribuído à uma variável:\n",
        "\n",
        "xgb_reg = XGBRegressor()"
      ],
      "metadata": {
        "id": "4azvu0G6SLjz"
      },
      "execution_count": 87,
      "outputs": []
    },
    {
      "cell_type": "code",
      "source": [
        "# Treino do XGBRegressor:\n",
        "\n",
        "xgb_reg.fit(X_train, y_train_log)"
      ],
      "metadata": {
        "colab": {
          "base_uri": "https://localhost:8080/",
          "height": 248
        },
        "id": "cmzB9GE5SOYj",
        "outputId": "4f7db7a3-ba83-4ae7-c1b6-552a4f47166f"
      },
      "execution_count": 88,
      "outputs": [
        {
          "output_type": "execute_result",
          "data": {
            "text/plain": [
              "XGBRegressor(base_score=None, booster=None, callbacks=None,\n",
              "             colsample_bylevel=None, colsample_bynode=None,\n",
              "             colsample_bytree=None, early_stopping_rounds=None,\n",
              "             enable_categorical=False, eval_metric=None, feature_types=None,\n",
              "             gamma=None, gpu_id=None, grow_policy=None, importance_type=None,\n",
              "             interaction_constraints=None, learning_rate=None, max_bin=None,\n",
              "             max_cat_threshold=None, max_cat_to_onehot=None,\n",
              "             max_delta_step=None, max_depth=None, max_leaves=None,\n",
              "             min_child_weight=None, missing=nan, monotone_constraints=None,\n",
              "             n_estimators=100, n_jobs=None, num_parallel_tree=None,\n",
              "             predictor=None, random_state=None, ...)"
            ],
            "text/html": [
              "<style>#sk-container-id-4 {color: black;background-color: white;}#sk-container-id-4 pre{padding: 0;}#sk-container-id-4 div.sk-toggleable {background-color: white;}#sk-container-id-4 label.sk-toggleable__label {cursor: pointer;display: block;width: 100%;margin-bottom: 0;padding: 0.3em;box-sizing: border-box;text-align: center;}#sk-container-id-4 label.sk-toggleable__label-arrow:before {content: \"▸\";float: left;margin-right: 0.25em;color: #696969;}#sk-container-id-4 label.sk-toggleable__label-arrow:hover:before {color: black;}#sk-container-id-4 div.sk-estimator:hover label.sk-toggleable__label-arrow:before {color: black;}#sk-container-id-4 div.sk-toggleable__content {max-height: 0;max-width: 0;overflow: hidden;text-align: left;background-color: #f0f8ff;}#sk-container-id-4 div.sk-toggleable__content pre {margin: 0.2em;color: black;border-radius: 0.25em;background-color: #f0f8ff;}#sk-container-id-4 input.sk-toggleable__control:checked~div.sk-toggleable__content {max-height: 200px;max-width: 100%;overflow: auto;}#sk-container-id-4 input.sk-toggleable__control:checked~label.sk-toggleable__label-arrow:before {content: \"▾\";}#sk-container-id-4 div.sk-estimator input.sk-toggleable__control:checked~label.sk-toggleable__label {background-color: #d4ebff;}#sk-container-id-4 div.sk-label input.sk-toggleable__control:checked~label.sk-toggleable__label {background-color: #d4ebff;}#sk-container-id-4 input.sk-hidden--visually {border: 0;clip: rect(1px 1px 1px 1px);clip: rect(1px, 1px, 1px, 1px);height: 1px;margin: -1px;overflow: hidden;padding: 0;position: absolute;width: 1px;}#sk-container-id-4 div.sk-estimator {font-family: monospace;background-color: #f0f8ff;border: 1px dotted black;border-radius: 0.25em;box-sizing: border-box;margin-bottom: 0.5em;}#sk-container-id-4 div.sk-estimator:hover {background-color: #d4ebff;}#sk-container-id-4 div.sk-parallel-item::after {content: \"\";width: 100%;border-bottom: 1px solid gray;flex-grow: 1;}#sk-container-id-4 div.sk-label:hover label.sk-toggleable__label {background-color: #d4ebff;}#sk-container-id-4 div.sk-serial::before {content: \"\";position: absolute;border-left: 1px solid gray;box-sizing: border-box;top: 0;bottom: 0;left: 50%;z-index: 0;}#sk-container-id-4 div.sk-serial {display: flex;flex-direction: column;align-items: center;background-color: white;padding-right: 0.2em;padding-left: 0.2em;position: relative;}#sk-container-id-4 div.sk-item {position: relative;z-index: 1;}#sk-container-id-4 div.sk-parallel {display: flex;align-items: stretch;justify-content: center;background-color: white;position: relative;}#sk-container-id-4 div.sk-item::before, #sk-container-id-4 div.sk-parallel-item::before {content: \"\";position: absolute;border-left: 1px solid gray;box-sizing: border-box;top: 0;bottom: 0;left: 50%;z-index: -1;}#sk-container-id-4 div.sk-parallel-item {display: flex;flex-direction: column;z-index: 1;position: relative;background-color: white;}#sk-container-id-4 div.sk-parallel-item:first-child::after {align-self: flex-end;width: 50%;}#sk-container-id-4 div.sk-parallel-item:last-child::after {align-self: flex-start;width: 50%;}#sk-container-id-4 div.sk-parallel-item:only-child::after {width: 0;}#sk-container-id-4 div.sk-dashed-wrapped {border: 1px dashed gray;margin: 0 0.4em 0.5em 0.4em;box-sizing: border-box;padding-bottom: 0.4em;background-color: white;}#sk-container-id-4 div.sk-label label {font-family: monospace;font-weight: bold;display: inline-block;line-height: 1.2em;}#sk-container-id-4 div.sk-label-container {text-align: center;}#sk-container-id-4 div.sk-container {/* jupyter's `normalize.less` sets `[hidden] { display: none; }` but bootstrap.min.css set `[hidden] { display: none !important; }` so we also need the `!important` here to be able to override the default hidden behavior on the sphinx rendered scikit-learn.org. See: https://github.com/scikit-learn/scikit-learn/issues/21755 */display: inline-block !important;position: relative;}#sk-container-id-4 div.sk-text-repr-fallback {display: none;}</style><div id=\"sk-container-id-4\" class=\"sk-top-container\"><div class=\"sk-text-repr-fallback\"><pre>XGBRegressor(base_score=None, booster=None, callbacks=None,\n",
              "             colsample_bylevel=None, colsample_bynode=None,\n",
              "             colsample_bytree=None, early_stopping_rounds=None,\n",
              "             enable_categorical=False, eval_metric=None, feature_types=None,\n",
              "             gamma=None, gpu_id=None, grow_policy=None, importance_type=None,\n",
              "             interaction_constraints=None, learning_rate=None, max_bin=None,\n",
              "             max_cat_threshold=None, max_cat_to_onehot=None,\n",
              "             max_delta_step=None, max_depth=None, max_leaves=None,\n",
              "             min_child_weight=None, missing=nan, monotone_constraints=None,\n",
              "             n_estimators=100, n_jobs=None, num_parallel_tree=None,\n",
              "             predictor=None, random_state=None, ...)</pre><b>In a Jupyter environment, please rerun this cell to show the HTML representation or trust the notebook. <br />On GitHub, the HTML representation is unable to render, please try loading this page with nbviewer.org.</b></div><div class=\"sk-container\" hidden><div class=\"sk-item\"><div class=\"sk-estimator sk-toggleable\"><input class=\"sk-toggleable__control sk-hidden--visually\" id=\"sk-estimator-id-4\" type=\"checkbox\" checked><label for=\"sk-estimator-id-4\" class=\"sk-toggleable__label sk-toggleable__label-arrow\">XGBRegressor</label><div class=\"sk-toggleable__content\"><pre>XGBRegressor(base_score=None, booster=None, callbacks=None,\n",
              "             colsample_bylevel=None, colsample_bynode=None,\n",
              "             colsample_bytree=None, early_stopping_rounds=None,\n",
              "             enable_categorical=False, eval_metric=None, feature_types=None,\n",
              "             gamma=None, gpu_id=None, grow_policy=None, importance_type=None,\n",
              "             interaction_constraints=None, learning_rate=None, max_bin=None,\n",
              "             max_cat_threshold=None, max_cat_to_onehot=None,\n",
              "             max_delta_step=None, max_depth=None, max_leaves=None,\n",
              "             min_child_weight=None, missing=nan, monotone_constraints=None,\n",
              "             n_estimators=100, n_jobs=None, num_parallel_tree=None,\n",
              "             predictor=None, random_state=None, ...)</pre></div></div></div></div></div>"
            ]
          },
          "metadata": {},
          "execution_count": 88
        }
      ]
    },
    {
      "cell_type": "code",
      "source": [
        "# Predição de dados do modelo treinado sobre os dados de teste:\n",
        "\n",
        "y_pred_04 = xgb_reg.predict(X_test)"
      ],
      "metadata": {
        "id": "RhwivMdLSQ_k"
      },
      "execution_count": 89,
      "outputs": []
    },
    {
      "cell_type": "code",
      "source": [
        "# Reversão logarítmica da variável-alvo, em retorno à escala original:\n",
        "\n",
        "y_pred_original_scale_04 = np.exp(y_pred_04)"
      ],
      "metadata": {
        "id": "uFrjx5cCYNbW"
      },
      "execution_count": 90,
      "outputs": []
    },
    {
      "cell_type": "code",
      "source": [
        "# R-Score do XGBRegressor:\n",
        "\n",
        "r2_score = metrics.r2_score(np.exp(y_test_log), y_pred_original_scale_04)"
      ],
      "metadata": {
        "id": "gscALlefSW4X"
      },
      "execution_count": 91,
      "outputs": []
    },
    {
      "cell_type": "code",
      "source": [
        "# R-score:\n",
        "\n",
        "r2_score"
      ],
      "metadata": {
        "colab": {
          "base_uri": "https://localhost:8080/"
        },
        "id": "NbXurShGSanE",
        "outputId": "a56d1efc-984b-4c07-db61-5e97077dfc07"
      },
      "execution_count": 92,
      "outputs": [
        {
          "output_type": "execute_result",
          "data": {
            "text/plain": [
              "0.702406843824345"
            ]
          },
          "metadata": {},
          "execution_count": 92
        }
      ]
    },
    {
      "cell_type": "code",
      "source": [
        "# Média de acurácia preditiva do XGBRegressor treinado:\n",
        "\n",
        "cross_val_score(xgb_reg, X_test, y_pred_original_scale_04).mean()"
      ],
      "metadata": {
        "id": "ANrKpldnScON",
        "colab": {
          "base_uri": "https://localhost:8080/"
        },
        "outputId": "3fed5242-2101-473e-8a79-76b7843c4a4f"
      },
      "execution_count": 93,
      "outputs": [
        {
          "output_type": "execute_result",
          "data": {
            "text/plain": [
              "0.8295703319428653"
            ]
          },
          "metadata": {},
          "execution_count": 93
        }
      ]
    },
    {
      "cell_type": "code",
      "source": [
        "# Erro mediano absoluto do XGBRegressor:\n",
        "\n",
        "med_ae = metrics.median_absolute_error(np.exp(y_test_log), y_pred_original_scale_04)"
      ],
      "metadata": {
        "id": "2e-6_gSUFsjc"
      },
      "execution_count": 94,
      "outputs": []
    },
    {
      "cell_type": "code",
      "source": [
        "# Erro mediano absoluto:\n",
        "\n",
        "print(f'Erro Mediano Absoluto: {med_ae}')"
      ],
      "metadata": {
        "colab": {
          "base_uri": "https://localhost:8080/"
        },
        "id": "z1nSCrd6Fr2F",
        "outputId": "45f4581e-697c-4d4f-9237-e63c3ac09137"
      },
      "execution_count": 95,
      "outputs": [
        {
          "output_type": "stream",
          "name": "stdout",
          "text": [
            "Erro Mediano Absoluto: 1052.7632976562554\n"
          ]
        }
      ]
    },
    {
      "cell_type": "code",
      "source": [
        "# Visualização comparativa dos dados previstos em relação aos dados reais:\n",
        "\n",
        "np.concatenate((y_pred_original_scale_04.reshape(-1,1), np.exp(y_test_log).reshape(-1,1)), axis=1)"
      ],
      "metadata": {
        "colab": {
          "base_uri": "https://localhost:8080/"
        },
        "id": "mwNnA2XMYm1E",
        "outputId": "e00e518c-50c5-4724-b7fa-c099671c6867"
      },
      "execution_count": 96,
      "outputs": [
        {
          "output_type": "execute_result",
          "data": {
            "text/plain": [
              "array([[14499.6475,  9488.6442],\n",
              "       [23375.6484, 18224.4512],\n",
              "       [ 4723.522 ,  5268.8182],\n",
              "       [11150.4473, 11521.0998],\n",
              "       [11200.2715, 10578.087 ],\n",
              "       [ 2378.2651, 11273.3314],\n",
              "       [52556.2578, 45703.0224],\n",
              "       [ 4778.937 ,  3559.6203],\n",
              "       [ 5666.5615,  5416.6612],\n",
              "       [ 8577.8057,  9584.8933],\n",
              "       [ 3761.1035,  3214.6221],\n",
              "       [ 3147.0842, 18956.2202],\n",
              "       [17291.0801, 12929.7911],\n",
              "       [55625.7305, 45864.205 ],\n",
              "       [ 7612.6729,  8084.9198],\n",
              "       [42699.1758, 42970.8527],\n",
              "       [11646.7285, 20710.0203],\n",
              "       [11522.2637, 11083.5772],\n",
              "       [ 8163.623 ,  7805.1605],\n",
              "       [14402.5967,  8540.671 ],\n",
              "       [ 8071.0464,  6747.7425],\n",
              "       [11924.9131, 13205.2856],\n",
              "       [13622.3662, 12649.7034],\n",
              "       [ 4475.1187,  4238.1266],\n",
              "       [39358.7617, 43255.4179],\n",
              "       [ 2430.3816,  2151.469 ],\n",
              "       [ 7556.9902,  7750.1564],\n",
              "       [14974.3467, 17086.2676],\n",
              "       [14598.4512,  9631.397 ],\n",
              "       [23204.2461, 21473.4788],\n",
              "       [ 1173.9048,  1136.9407],\n",
              "       [ 7747.2808,  7987.4752],\n",
              "       [17146.2148,  2204.4718],\n",
              "       [12529.7197, 13416.0381],\n",
              "       [12093.0225,  8281.6227],\n",
              "       [37596.2773, 39598.4072],\n",
              "       [ 6790.1729,  6797.8633],\n",
              "       [ 3344.4194,  3694.428 ],\n",
              "       [18426.0508, 14475.675 ],\n",
              "       [14610.6797, 12266.5069],\n",
              "       [ 7182.1455,  5313.1698],\n",
              "       [ 1560.1521,  1633.5644],\n",
              "       [ 9894.0508,  9716.841 ],\n",
              "       [ 2159.3916,  2021.5523],\n",
              "       [ 4495.5825,  2900.4893],\n",
              "       [ 9011.7803,  8583.3023],\n",
              "       [ 7399.1792,  4763.329 ],\n",
              "       [ 7462.0918,  4338.7352],\n",
              "       [13353.6514, 10798.3362],\n",
              "       [41147.3203, 36022.0112],\n",
              "       [18097.5449, 17943.106 ],\n",
              "       [40395.3945, 43579.9394],\n",
              "       [ 3859.387 ,  4033.2407],\n",
              "       [ 3971.7441,  3172.6149],\n",
              "       [13579.0449, 13431.265 ],\n",
              "       [17507.2852, 17469.9839],\n",
              "       [ 3061.0083,  2155.361 ],\n",
              "       [ 7192.3999,  4467.6214],\n",
              "       [10798.1318, 12045.342 ],\n",
              "       [19253.0938, 14120.62  ],\n",
              "       [39747.5078, 39126.3323],\n",
              "       [ 4523.748 ,  3858.7592],\n",
              "       [ 3601.0615,  1881.07  ],\n",
              "       [ 1397.2881,  1242.565 ],\n",
              "       [11724.6143, 11841.775 ],\n",
              "       [13003.2275, 14452.8351],\n",
              "       [13285.6924, 10826.2537],\n",
              "       [19379.2617, 20297.8634],\n",
              "       [18686.3984, 19445.2658],\n",
              "       [ 1181.0162,  1150.3959],\n",
              "       [12355.3262, 11946.1327],\n",
              "       [ 6436.7197,  5990.5237],\n",
              "       [13118.1162,  7513.267 ],\n",
              "       [ 3320.0867,  3047.062 ],\n",
              "       [ 2787.9121,  2218.6012],\n",
              "       [15399.7275, 13020.1611],\n",
              "       [19321.2246, 20010.6336],\n",
              "       [11071.3467, 35161.1346],\n",
              "       [24747.9746, 18311.742 ],\n",
              "       [14714.127 , 15020.7601],\n",
              "       [ 8360.0479,  6859.4796],\n",
              "       [ 3037.0254,  3293.5298],\n",
              "       [ 2644.8728, 12610.887 ],\n",
              "       [ 9458.0908,  8126.7845],\n",
              "       [ 1367.9916, 11483.6348],\n",
              "       [ 6612.1509,  6314.759 ],\n",
              "       [13595.1895, 10227.2842],\n",
              "       [11070.9561, 11091.7178],\n",
              "       [ 9356.6777,  8689.8588],\n",
              "       [16433.1211, 13113.6048],\n",
              "       [11736.7188, 11567.3005],\n",
              "       [ 1770.5963,  1705.5681],\n",
              "       [ 6783.9067,  5398.6167],\n",
              "       [ 2811.4116,  2405.7338],\n",
              "       [13539.2305, 33472.9719],\n",
              "       [11034.4219, 10966.446 ],\n",
              "       [ 8779.5811,  7326.0482],\n",
              "       [ 4516.5581,  4528.1829],\n",
              "       [11286.5234, 11151.78  ],\n",
              "       [ 3090.0896, 18219.1614],\n",
              "       [ 6254.6011,  5032.2695],\n",
              "       [56908.6992, 36838.467 ],\n",
              "       [39485.8008, 40933.4295],\n",
              "       [ 4675.2461,  2363.2291],\n",
              "       [ 9950.7031, 11412.685 ],\n",
              "       [ 5718.8696,  4436.0942],\n",
              "       [ 6941.0356,  6251.435 ],\n",
              "       [ 6821.6133,  7161.094 ],\n",
              "       [16569.1953, 10601.5483],\n",
              "       [ 2846.3699,  2598.779 ],\n",
              "       [10375.623 ,  1264.249 ],\n",
              "       [14638.1143, 26126.6748],\n",
              "       [25417.0645, 37830.7242],\n",
              "       [11065.9854, 10808.4863],\n",
              "       [14017.9609,  1981.07  ],\n",
              "       [11147.4805, 12334.828 ],\n",
              "       [13342.9199, 10073.0551],\n",
              "       [ 1544.6736,  1720.4363],\n",
              "       [46659.4336, 47056.5321],\n",
              "       [61899.5977, 40905.1995],\n",
              "       [97980.9141, 37466.3437],\n",
              "       [ 9085.459 , 28341.1888],\n",
              "       [ 9541.9863, 10270.46  ],\n",
              "       [ 5405.5654,  5694.4305],\n",
              "       [13078.8555, 10714.644 ],\n",
              "       [ 3965.7754, 18964.1719],\n",
              "       [13959.3438, 12496.2909],\n",
              "       [23317.4023, 27038.9141],\n",
              "       [44111.0938, 45009.9555],\n",
              "       [ 6140.333 , 28477.735 ],\n",
              "       [15135.0312, 17044.3414],\n",
              "       [ 8387.9268,  8969.33  ],\n",
              "       [ 3385.1494,  1770.5317],\n",
              "       [10549.543 ,  7519.0253],\n",
              "       [ 4932.8569,  4720.524 ],\n",
              "       [ 6666.4834,  5709.867 ],\n",
              "       [11113.8203, 12095.478 ],\n",
              "       [ 1836.3767,  2220.4451],\n",
              "       [ 6148.9238,  5935.3798],\n",
              "       [ 1549.7501,  1262.442 ],\n",
              "       [ 2391.4724,  2640.0429],\n",
              "       [14556.2852, 12245.531 ],\n",
              "       [ 3426.8823,  3491.5491],\n",
              "       [43345.7031, 45711.2079],\n",
              "       [ 6099.5366,  4434.3877],\n",
              "       [11005.5527, 10705.47  ],\n",
              "       [11875.1709,  9870.8102],\n",
              "       [14007.165 , 14044.4767],\n",
              "       [14204.6016, 15519.1802],\n",
              "       [ 6113.7876, 22494.6596],\n",
              "       [35988.8008, 35586.576 ],\n",
              "       [18905.7324,  3580.8287],\n",
              "       [21836.6777, 21660.9301],\n",
              "       [10369.4697,  4619.0799],\n",
              "       [ 2084.3252,  1647.4297],\n",
              "       [ 3540.7214,  3269.8466],\n",
              "       [ 2787.9121,  2218.4692],\n",
              "       [13243.6807, 12431.9534],\n",
              "       [11593.291 , 11744.9341],\n",
              "       [ 8529.2939,  7244.8136],\n",
              "       [ 4317.8091,  4719.2036],\n",
              "       [13683.9014, 11880.1041],\n",
              "       [23414.7148, 21196.818 ],\n",
              "       [ 3275.7065,  3393.9768],\n",
              "       [49454.5977, 43814.8661],\n",
              "       [11830.1035,  7148.105 ],\n",
              "       [11911.8066,  8704.456 ],\n",
              "       [ 1973.088 ,  2222.5644],\n",
              "       [ 1816.8923,  1918.3184],\n",
              "       [ 9279.4561,  9881.068 ],\n",
              "       [ 7512.6895,  3173.018 ],\n",
              "       [14927.8926, 16086.1275],\n",
              "       [ 7339.3232,  7145.8626],\n",
              "       [ 3886.4414,  3592.48  ],\n",
              "       [11143.9941, 11539.421 ],\n",
              "       [42805.5469, 40104.89  ],\n",
              "       [ 6755.4487,  6374.5574],\n",
              "       [ 8515.835 ,  6186.3208],\n",
              "       [ 2470.0439,  2167.732 ],\n",
              "       [ 4197.543 ,  4244.59  ],\n",
              "       [10752.3936, 10108.2206],\n",
              "       [ 6114.8022,  6199.7518],\n",
              "       [11441.8799, 10215.636 ],\n",
              "       [ 3960.9451,  4138.5227],\n",
              "       [11227.1895, 10983.5013],\n",
              "       [ 4999.3115,  4572.4131],\n",
              "       [17805.3164, 15613.1933],\n",
              "       [10054.2979,  9856.1314],\n",
              "       [ 9911.2295, 14479.3301],\n",
              "       [ 8425.1836,  7153.6714],\n",
              "       [ 3939.269 ,  4351.5144],\n",
              "       [15981.207 , 13013.2086],\n",
              "       [32050.7324, 33476.8171],\n",
              "       [12465.9785, 10924.9332],\n",
              "       [ 2779.1018, 19674.3357],\n",
              "       [ 1616.5787,  1640.5631],\n",
              "       [11343.498 ,  9878.6077],\n",
              "       [ 1443.3783,  1712.0268],\n",
              "       [17056.1719, 15162.5344],\n",
              "       [ 8284.9336,  5847.9176],\n",
              "       [12001.248 ,  8824.279 ],\n",
              "       [11880.6416,  9542.6956],\n",
              "       [13778.9863, 14395.5579],\n",
              "       [ 4029.0725, 17627.2395],\n",
              "       [ 8480.6289,  5758.4134],\n",
              "       [10665.9199, 10960.33  ],\n",
              "       [22734.6582, 13636.6379],\n",
              "       [14285.46  , 10943.1321],\n",
              "       [29444.2969, 27809.7251],\n",
              "       [11662.6885,  8535.6718],\n",
              "       [16715.752 , 17664.1442],\n",
              "       [12584.6523, 11849.141 ],\n",
              "       [ 1613.679 ,  1709.0014],\n",
              "       [ 5356.6035,  5479.0368],\n",
              "       [ 4004.9912,  4754.6368],\n",
              "       [ 3432.2695,  2204.736 ],\n",
              "       [48020.1953, 48674.5588],\n",
              "       [17563.7266, 14255.6082],\n",
              "       [ 4383.8062,  5254.524 ],\n",
              "       [41659.9609, 46114.511 ],\n",
              "       [ 8359.9287,  6407.4107],\n",
              "       [ 9114.957 ,  8528.532 ],\n",
              "       [ 1815.8444,  2008.945 ],\n",
              "       [ 7246.3574,  7732.8579],\n",
              "       [15432.3652, 16298.846 ],\n",
              "       [43239.7617, 41098.1617],\n",
              "       [10441.5127,  8965.0606],\n",
              "       [ 5579.8804,  5970.723 ],\n",
              "       [ 1548.5004,  1633.0363],\n",
              "       [43853.8867, 38793.6856],\n",
              "       [ 9401.9746,  8303.5356],\n",
              "       [19029.4414, 16451.8947],\n",
              "       [14831.2148, 14002.1338],\n",
              "       [ 7939.7432,  7625.63  ],\n",
              "       [ 7658.3364,  7640.4174],\n",
              "       [ 9017.8066,  8335.5896],\n",
              "       [ 2353.1423,  7324.7348],\n",
              "       [48436.0703, 39872.7043],\n",
              "       [ 7820.541 ,  6838.3687],\n",
              "       [ 6210.2432,  6390.3778],\n",
              "       [ 6486.8945,  6611.1097],\n",
              "       [ 4396.5132,  3936.1799],\n",
              "       [44869.8828, 39557.4945],\n",
              "       [ 3929.6035,  3762.292 ],\n",
              "       [12561.0781, 13832.1152],\n",
              "       [ 5784.3511,  4134.6417],\n",
              "       [13417.1582, 14693.6694],\n",
              "       [12467.1904,  8278.523 ],\n",
              "       [40405.7969, 39837.519 ],\n",
              "       [14473.1348, 18807.1455],\n",
              "       [ 9047.8018,  8828.2099],\n",
              "       [20227.0645, 35070.3745],\n",
              "       [ 2274.0901,  2323.6218],\n",
              "       [ 1973.3882,  1876.344 ],\n",
              "       [45711.6836, 34167.273 ],\n",
              "       [11439.5674, 12958.118 ],\n",
              "       [ 9958.3174,  9911.3598],\n",
              "       [18396.2207, 21678.2834],\n",
              "       [20716.375 , 20150.3229],\n",
              "       [20725.6426, 20774.6278],\n",
              "       [14042.4873, 14902.5167],\n",
              "       [13628.8779, 10737.8707],\n",
              "       [ 6500.3022,  6556.0704],\n",
              "       [12345.1396, 12270.6886],\n",
              "       [ 1826.2131,  1965.78  ],\n",
              "       [40948.4219, 42113.2356],\n",
              "       [10823.4541,  7419.522 ],\n",
              "       [13222.251 , 11014.7119]])"
            ]
          },
          "metadata": {},
          "execution_count": 96
        }
      ]
    },
    {
      "cell_type": "markdown",
      "source": [
        "# FIM"
      ],
      "metadata": {
        "id": "aPbEEbX3CXZc"
      }
    }
  ]
}